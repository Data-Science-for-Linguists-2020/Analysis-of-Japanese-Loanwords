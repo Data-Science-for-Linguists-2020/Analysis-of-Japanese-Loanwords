{
 "cells": [
  {
   "cell_type": "markdown",
   "metadata": {},
   "source": [
    "# Term Project Progress Notebook - Manipulation and Analysis (NEW CONTINUING)\n",
    "\n",
    "- Lindsey Rojtas\n",
    "- LING1340\n",
    "- ler75@pitt.edu\n",
    "\n",
    "Welcome to the second Notebook! It should be noted that this is a **continuation** of `progress_data`! My progress report 3 starts there and will end here. "
   ]
  },
  {
   "cell_type": "markdown",
   "metadata": {},
   "source": [
    "## PROGRESS REPORT 3 CONTINUED\n",
    "### Loading in and investigating our data"
   ]
  },
  {
   "cell_type": "markdown",
   "metadata": {},
   "source": [
    "Before anything else, we should load in those pickle files. "
   ]
  },
  {
   "cell_type": "code",
   "execution_count": 1,
   "metadata": {},
   "outputs": [],
   "source": [
    "import pandas as pd\n",
    "import matplotlib.pyplot as plt\n",
    "import seaborn as sns\n",
    "from scipy import stats\n",
    "import warnings\n",
    "from scipy import stats"
   ]
  },
  {
   "cell_type": "code",
   "execution_count": 2,
   "metadata": {},
   "outputs": [],
   "source": [
    "warnings.filterwarnings(action='once')"
   ]
  },
  {
   "cell_type": "code",
   "execution_count": 3,
   "metadata": {},
   "outputs": [],
   "source": [
    "byfile = pd.read_pickle('../privdata/byfile_df.pkl')\n",
    "bypar = pd.read_pickle('../privdata/byparticipant_df.pkl')\n",
    "wordlist = pd.read_pickle('../privdata/wordlist_df.pkl')"
   ]
  },
  {
   "cell_type": "code",
   "execution_count": 4,
   "metadata": {},
   "outputs": [
    {
     "data": {
      "text/html": [
       "<div>\n",
       "<style scoped>\n",
       "    .dataframe tbody tr th:only-of-type {\n",
       "        vertical-align: middle;\n",
       "    }\n",
       "\n",
       "    .dataframe tbody tr th {\n",
       "        vertical-align: top;\n",
       "    }\n",
       "\n",
       "    .dataframe thead th {\n",
       "        text-align: right;\n",
       "    }\n",
       "</style>\n",
       "<table border=\"1\" class=\"dataframe\">\n",
       "  <thead>\n",
       "    <tr style=\"text-align: right;\">\n",
       "      <th></th>\n",
       "      <th>file</th>\n",
       "      <th>participants</th>\n",
       "      <th>content</th>\n",
       "    </tr>\n",
       "  </thead>\n",
       "  <tbody>\n",
       "    <tr>\n",
       "      <td>0</td>\n",
       "      <td>data001.txt</td>\n",
       "      <td>[F107, F023, M023, F128]</td>\n",
       "      <td>[F107：＊＊＊の町というのはちいちゃくって、城壁がこう町全体をぐるっと回ってて、それが城...</td>\n",
       "    </tr>\n",
       "    <tr>\n",
       "      <td>1</td>\n",
       "      <td>data002.txt</td>\n",
       "      <td>[F107, F023, F128]</td>\n",
       "      <td>[F107：今度はーイギリスにもアメリカと同様のテロが起こるだろうって言ったんだってよ。, ...</td>\n",
       "    </tr>\n",
       "    <tr>\n",
       "      <td>2</td>\n",
       "      <td>data003.txt</td>\n",
       "      <td>[F033, F056]</td>\n",
       "      <td>[F033：倒れちゃう。, F056：いきなり倒れた。, F033：どうしよう。あっ、この間...</td>\n",
       "    </tr>\n",
       "    <tr>\n",
       "      <td>3</td>\n",
       "      <td>data004.txt</td>\n",
       "      <td>[M018, F128]</td>\n",
       "      <td>[F128：いや、別にいいよ。ローソンでいいやろ。ちょっと倒していい、これ。どうよ、調子は。...</td>\n",
       "    </tr>\n",
       "    <tr>\n",
       "      <td>4</td>\n",
       "      <td>data005.txt</td>\n",
       "      <td>[M023, F128, F116, M026]</td>\n",
       "      <td>[F128：来てたときによく貸してもらったやつだ。, M023：そう、そんな感じのとこ。, ...</td>\n",
       "    </tr>\n",
       "  </tbody>\n",
       "</table>\n",
       "</div>"
      ],
      "text/plain": [
       "          file              participants  \\\n",
       "0  data001.txt  [F107, F023, M023, F128]   \n",
       "1  data002.txt        [F107, F023, F128]   \n",
       "2  data003.txt              [F033, F056]   \n",
       "3  data004.txt              [M018, F128]   \n",
       "4  data005.txt  [M023, F128, F116, M026]   \n",
       "\n",
       "                                             content  \n",
       "0  [F107：＊＊＊の町というのはちいちゃくって、城壁がこう町全体をぐるっと回ってて、それが城...  \n",
       "1  [F107：今度はーイギリスにもアメリカと同様のテロが起こるだろうって言ったんだってよ。, ...  \n",
       "2  [F033：倒れちゃう。, F056：いきなり倒れた。, F033：どうしよう。あっ、この間...  \n",
       "3  [F128：いや、別にいいよ。ローソンでいいやろ。ちょっと倒していい、これ。どうよ、調子は。...  \n",
       "4  [F128：来てたときによく貸してもらったやつだ。, M023：そう、そんな感じのとこ。, ...  "
      ]
     },
     "execution_count": 4,
     "metadata": {},
     "output_type": "execute_result"
    }
   ],
   "source": [
    "byfile.head()"
   ]
  },
  {
   "cell_type": "code",
   "execution_count": 5,
   "metadata": {},
   "outputs": [
    {
     "data": {
      "text/html": [
       "<div>\n",
       "<style scoped>\n",
       "    .dataframe tbody tr th:only-of-type {\n",
       "        vertical-align: middle;\n",
       "    }\n",
       "\n",
       "    .dataframe tbody tr th {\n",
       "        vertical-align: top;\n",
       "    }\n",
       "\n",
       "    .dataframe thead th {\n",
       "        text-align: right;\n",
       "    }\n",
       "</style>\n",
       "<table border=\"1\" class=\"dataframe\">\n",
       "  <thead>\n",
       "    <tr style=\"text-align: right;\">\n",
       "      <th></th>\n",
       "      <th>participant</th>\n",
       "      <th>age</th>\n",
       "      <th>appears_count</th>\n",
       "      <th>appears_in</th>\n",
       "      <th>content</th>\n",
       "    </tr>\n",
       "  </thead>\n",
       "  <tbody>\n",
       "    <tr>\n",
       "      <td>0</td>\n",
       "      <td>F001</td>\n",
       "      <td>Early 20s</td>\n",
       "      <td>5</td>\n",
       "      <td>[data105.txt, data086.txt, data076.txt, data07...</td>\n",
       "      <td>うーん、わかんない。そういうこと言わないで。うるさいな。うるさい。うるさいって言ってるの。う...</td>\n",
       "    </tr>\n",
       "    <tr>\n",
       "      <td>1</td>\n",
       "      <td>F002</td>\n",
       "      <td>Late 60's</td>\n",
       "      <td>3</td>\n",
       "      <td>[data033.txt, data032.txt, data031.txt]</td>\n",
       "      <td>２７歳から現在まで東京都に居住。南仏へいらしたそうだけど、（うん）どうでしたか。みんな、太っ...</td>\n",
       "    </tr>\n",
       "    <tr>\n",
       "      <td>2</td>\n",
       "      <td>F003</td>\n",
       "      <td>Late 80's</td>\n",
       "      <td>1</td>\n",
       "      <td>[data129.txt]</td>\n",
       "      <td>そうねえ。＜笑い＞先生はね、師範卒業したのがねえ、１９歳だったのよ。だーから、若い先生でね。...</td>\n",
       "    </tr>\n",
       "    <tr>\n",
       "      <td>3</td>\n",
       "      <td>F004</td>\n",
       "      <td>Late 20's</td>\n",
       "      <td>14</td>\n",
       "      <td>[data096.txt, data094.txt, data092.txt, data08...</td>\n",
       "      <td>うん、まあね。はい、もう始まってますからね。よろしくね。ちょっとちょっと、ちゃんとさ、つなぐ...</td>\n",
       "    </tr>\n",
       "    <tr>\n",
       "      <td>4</td>\n",
       "      <td>F005</td>\n",
       "      <td>Late 20's</td>\n",
       "      <td>3</td>\n",
       "      <td>[data052.txt, data023.txt, data015.txt]</td>\n",
       "      <td>はーい。いや、F034さんってー、やっぱりー、ハンバーガーとか好きですよねー。＊はなしを＊。...</td>\n",
       "    </tr>\n",
       "  </tbody>\n",
       "</table>\n",
       "</div>"
      ],
      "text/plain": [
       "  participant        age  appears_count  \\\n",
       "0        F001  Early 20s              5   \n",
       "1        F002  Late 60's              3   \n",
       "2        F003  Late 80's              1   \n",
       "3        F004  Late 20's             14   \n",
       "4        F005  Late 20's              3   \n",
       "\n",
       "                                          appears_in  \\\n",
       "0  [data105.txt, data086.txt, data076.txt, data07...   \n",
       "1            [data033.txt, data032.txt, data031.txt]   \n",
       "2                                      [data129.txt]   \n",
       "3  [data096.txt, data094.txt, data092.txt, data08...   \n",
       "4            [data052.txt, data023.txt, data015.txt]   \n",
       "\n",
       "                                             content  \n",
       "0  うーん、わかんない。そういうこと言わないで。うるさいな。うるさい。うるさいって言ってるの。う...  \n",
       "1  ２７歳から現在まで東京都に居住。南仏へいらしたそうだけど、（うん）どうでしたか。みんな、太っ...  \n",
       "2  そうねえ。＜笑い＞先生はね、師範卒業したのがねえ、１９歳だったのよ。だーから、若い先生でね。...  \n",
       "3  うん、まあね。はい、もう始まってますからね。よろしくね。ちょっとちょっと、ちゃんとさ、つなぐ...  \n",
       "4  はーい。いや、F034さんってー、やっぱりー、ハンバーガーとか好きですよねー。＊はなしを＊。...  "
      ]
     },
     "execution_count": 5,
     "metadata": {},
     "output_type": "execute_result"
    }
   ],
   "source": [
    "bypar.head()"
   ]
  },
  {
   "cell_type": "code",
   "execution_count": 6,
   "metadata": {},
   "outputs": [
    {
     "data": {
      "text/html": [
       "<div>\n",
       "<style scoped>\n",
       "    .dataframe tbody tr th:only-of-type {\n",
       "        vertical-align: middle;\n",
       "    }\n",
       "\n",
       "    .dataframe tbody tr th {\n",
       "        vertical-align: top;\n",
       "    }\n",
       "\n",
       "    .dataframe thead th {\n",
       "        text-align: right;\n",
       "    }\n",
       "</style>\n",
       "<table border=\"1\" class=\"dataframe\">\n",
       "  <thead>\n",
       "    <tr style=\"text-align: right;\">\n",
       "      <th></th>\n",
       "      <th>katakana</th>\n",
       "      <th>translation</th>\n",
       "      <th>frequency</th>\n",
       "    </tr>\n",
       "  </thead>\n",
       "  <tbody>\n",
       "    <tr>\n",
       "      <td>0</td>\n",
       "      <td>パーセント</td>\n",
       "      <td>percent</td>\n",
       "      <td>63392</td>\n",
       "    </tr>\n",
       "    <tr>\n",
       "      <td>1</td>\n",
       "      <td>アメリカ</td>\n",
       "      <td>America</td>\n",
       "      <td>28243</td>\n",
       "    </tr>\n",
       "    <tr>\n",
       "      <td>2</td>\n",
       "      <td>ページ</td>\n",
       "      <td>page</td>\n",
       "      <td>24642</td>\n",
       "    </tr>\n",
       "    <tr>\n",
       "      <td>3</td>\n",
       "      <td>センター</td>\n",
       "      <td>center</td>\n",
       "      <td>20664</td>\n",
       "    </tr>\n",
       "    <tr>\n",
       "      <td>4</td>\n",
       "      <td>サービス</td>\n",
       "      <td>service</td>\n",
       "      <td>16630</td>\n",
       "    </tr>\n",
       "  </tbody>\n",
       "</table>\n",
       "</div>"
      ],
      "text/plain": [
       "  katakana translation  frequency\n",
       "0    パーセント     percent      63392\n",
       "1     アメリカ     America      28243\n",
       "2      ページ        page      24642\n",
       "3     センター      center      20664\n",
       "4     サービス     service      16630"
      ]
     },
     "execution_count": 6,
     "metadata": {},
     "output_type": "execute_result"
    }
   ],
   "source": [
    "wordlist.head()"
   ]
  },
  {
   "cell_type": "markdown",
   "metadata": {},
   "source": [
    "### Exploratory Analysis and Developing Questions\n",
    "So, let's get some structure in here. What I'm gonna do next is check the length of everything as well as check for some potential issues that will come about in our analysis. "
   ]
  },
  {
   "cell_type": "code",
   "execution_count": 7,
   "metadata": {},
   "outputs": [
    {
     "data": {
      "text/plain": [
       "5192"
      ]
     },
     "execution_count": 7,
     "metadata": {},
     "output_type": "execute_result"
    }
   ],
   "source": [
    "len(wordlist)"
   ]
  },
  {
   "cell_type": "markdown",
   "metadata": {},
   "source": [
    "So there are around 5,000 entries in our list of Katakana words.... "
   ]
  },
  {
   "cell_type": "code",
   "execution_count": 8,
   "metadata": {},
   "outputs": [
    {
     "data": {
      "text/plain": [
       "197"
      ]
     },
     "execution_count": 8,
     "metadata": {},
     "output_type": "execute_result"
    }
   ],
   "source": [
    "len(bypar)"
   ]
  },
  {
   "cell_type": "markdown",
   "metadata": {},
   "source": [
    "... 197 participants... "
   ]
  },
  {
   "cell_type": "code",
   "execution_count": 9,
   "metadata": {},
   "outputs": [
    {
     "data": {
      "text/plain": [
       "129"
      ]
     },
     "execution_count": 9,
     "metadata": {},
     "output_type": "execute_result"
    }
   ],
   "source": [
    "len(byfile)"
   ]
  },
  {
   "cell_type": "markdown",
   "metadata": {},
   "source": [
    "... who spoke in 129 files. It's pretty easy to see that not everyone spoke in the same amount of files for the same amount of time, so we should examine the data for potential outliers. One thing I can think of off the top of my head is how many times a certain participant was present in the conversations. We can see that F004 was present in 14 different files, so obviously she will have more conversation data than anyone else, unless her contributions in many of the files were marginal. Let's take a peek at some value counts:"
   ]
  },
  {
   "cell_type": "code",
   "execution_count": 10,
   "metadata": {},
   "outputs": [
    {
     "data": {
      "text/plain": [
       "1     161\n",
       "2      16\n",
       "3       7\n",
       "5       4\n",
       "4       4\n",
       "7       2\n",
       "14      1\n",
       "11      1\n",
       "6       1\n",
       "Name: appears_count, dtype: int64"
      ]
     },
     "execution_count": 10,
     "metadata": {},
     "output_type": "execute_result"
    }
   ],
   "source": [
    "bypar['appears_count'].value_counts()"
   ]
  },
  {
   "cell_type": "markdown",
   "metadata": {},
   "source": [
    "Ah, so we're seeing a problem here. The majority of the participants only appeared in one file, but there are quite a few outliers here. I could just exclude them from my analysis from the get-go, but we should probably see just how long the strings of text are for each participant. "
   ]
  },
  {
   "cell_type": "code",
   "execution_count": 11,
   "metadata": {},
   "outputs": [
    {
     "name": "stderr",
     "output_type": "stream",
     "text": [
      "C:\\Users\\lindsey rojtas\\Anaconda3\\lib\\site-packages\\ipykernel_launcher.py:3: SettingWithCopyWarning: \n",
      "A value is trying to be set on a copy of a slice from a DataFrame\n",
      "\n",
      "See the caveats in the documentation: http://pandas.pydata.org/pandas-docs/stable/user_guide/indexing.html#returning-a-view-versus-a-copy\n",
      "  This is separate from the ipykernel package so we can avoid doing imports until\n"
     ]
    }
   ],
   "source": [
    "bypar['length'] = 0\n",
    "for i in range(len(bypar)):\n",
    "    bypar['length'][i] = len(bypar['content'][i])"
   ]
  },
  {
   "cell_type": "code",
   "execution_count": 12,
   "metadata": {},
   "outputs": [
    {
     "data": {
      "text/html": [
       "<div>\n",
       "<style scoped>\n",
       "    .dataframe tbody tr th:only-of-type {\n",
       "        vertical-align: middle;\n",
       "    }\n",
       "\n",
       "    .dataframe tbody tr th {\n",
       "        vertical-align: top;\n",
       "    }\n",
       "\n",
       "    .dataframe thead th {\n",
       "        text-align: right;\n",
       "    }\n",
       "</style>\n",
       "<table border=\"1\" class=\"dataframe\">\n",
       "  <thead>\n",
       "    <tr style=\"text-align: right;\">\n",
       "      <th></th>\n",
       "      <th>participant</th>\n",
       "      <th>age</th>\n",
       "      <th>appears_count</th>\n",
       "      <th>appears_in</th>\n",
       "      <th>content</th>\n",
       "      <th>length</th>\n",
       "    </tr>\n",
       "  </thead>\n",
       "  <tbody>\n",
       "    <tr>\n",
       "      <td>0</td>\n",
       "      <td>F001</td>\n",
       "      <td>Early 20s</td>\n",
       "      <td>5</td>\n",
       "      <td>[data105.txt, data086.txt, data076.txt, data07...</td>\n",
       "      <td>うーん、わかんない。そういうこと言わないで。うるさいな。うるさい。うるさいって言ってるの。う...</td>\n",
       "      <td>36989</td>\n",
       "    </tr>\n",
       "    <tr>\n",
       "      <td>1</td>\n",
       "      <td>F002</td>\n",
       "      <td>Late 60's</td>\n",
       "      <td>3</td>\n",
       "      <td>[data033.txt, data032.txt, data031.txt]</td>\n",
       "      <td>２７歳から現在まで東京都に居住。南仏へいらしたそうだけど、（うん）どうでしたか。みんな、太っ...</td>\n",
       "      <td>27372</td>\n",
       "    </tr>\n",
       "    <tr>\n",
       "      <td>2</td>\n",
       "      <td>F003</td>\n",
       "      <td>Late 80's</td>\n",
       "      <td>1</td>\n",
       "      <td>[data129.txt]</td>\n",
       "      <td>そうねえ。＜笑い＞先生はね、師範卒業したのがねえ、１９歳だったのよ。だーから、若い先生でね。...</td>\n",
       "      <td>5615</td>\n",
       "    </tr>\n",
       "    <tr>\n",
       "      <td>3</td>\n",
       "      <td>F004</td>\n",
       "      <td>Late 20's</td>\n",
       "      <td>14</td>\n",
       "      <td>[data096.txt, data094.txt, data092.txt, data08...</td>\n",
       "      <td>うん、まあね。はい、もう始まってますからね。よろしくね。ちょっとちょっと、ちゃんとさ、つなぐ...</td>\n",
       "      <td>133395</td>\n",
       "    </tr>\n",
       "    <tr>\n",
       "      <td>4</td>\n",
       "      <td>F005</td>\n",
       "      <td>Late 20's</td>\n",
       "      <td>3</td>\n",
       "      <td>[data052.txt, data023.txt, data015.txt]</td>\n",
       "      <td>はーい。いや、F034さんってー、やっぱりー、ハンバーガーとか好きですよねー。＊はなしを＊。...</td>\n",
       "      <td>24084</td>\n",
       "    </tr>\n",
       "  </tbody>\n",
       "</table>\n",
       "</div>"
      ],
      "text/plain": [
       "  participant        age  appears_count  \\\n",
       "0        F001  Early 20s              5   \n",
       "1        F002  Late 60's              3   \n",
       "2        F003  Late 80's              1   \n",
       "3        F004  Late 20's             14   \n",
       "4        F005  Late 20's              3   \n",
       "\n",
       "                                          appears_in  \\\n",
       "0  [data105.txt, data086.txt, data076.txt, data07...   \n",
       "1            [data033.txt, data032.txt, data031.txt]   \n",
       "2                                      [data129.txt]   \n",
       "3  [data096.txt, data094.txt, data092.txt, data08...   \n",
       "4            [data052.txt, data023.txt, data015.txt]   \n",
       "\n",
       "                                             content  length  \n",
       "0  うーん、わかんない。そういうこと言わないで。うるさいな。うるさい。うるさいって言ってるの。う...   36989  \n",
       "1  ２７歳から現在まで東京都に居住。南仏へいらしたそうだけど、（うん）どうでしたか。みんな、太っ...   27372  \n",
       "2  そうねえ。＜笑い＞先生はね、師範卒業したのがねえ、１９歳だったのよ。だーから、若い先生でね。...    5615  \n",
       "3  うん、まあね。はい、もう始まってますからね。よろしくね。ちょっとちょっと、ちゃんとさ、つなぐ...  133395  \n",
       "4  はーい。いや、F034さんってー、やっぱりー、ハンバーガーとか好きですよねー。＊はなしを＊。...   24084  "
      ]
     },
     "execution_count": 12,
     "metadata": {},
     "output_type": "execute_result"
    }
   ],
   "source": [
    "bypar.head()"
   ]
  },
  {
   "cell_type": "code",
   "execution_count": 13,
   "metadata": {},
   "outputs": [
    {
     "data": {
      "text/plain": [
       "count       197.000000\n",
       "mean      12055.725888\n",
       "std       14839.251277\n",
       "min         458.000000\n",
       "25%        5683.000000\n",
       "50%        8206.000000\n",
       "75%       12992.000000\n",
       "max      133395.000000\n",
       "Name: length, dtype: float64"
      ]
     },
     "execution_count": 13,
     "metadata": {},
     "output_type": "execute_result"
    }
   ],
   "source": [
    "bypar['length'].describe()"
   ]
  },
  {
   "cell_type": "markdown",
   "metadata": {},
   "source": [
    "So there are some wildly different levels of contribution here. We see that F004 has way more contributions than even the 75th percentile - this is not surprising, but it is something we really need to take into account if we find that she used a ton of Katakana. A way we could approach this is take a ratio of Katakana characters to overall characters. This, though, could be an issue because onomatopoeia words are also written in Katakana. It may be something worth trying, however. Another option I could try is just dropping anyone that participated in one or two conversations. I might try both (or more things!) in an attempt to see how the results differ -- maybe younger people use more onomatopoeia than older people too!"
   ]
  },
  {
   "cell_type": "markdown",
   "metadata": {},
   "source": [
    "Now, let's test out some methods of gathering up how often these words are used in these files. Below is a line of code I used to see on what level in a dataframe a word would be detected:"
   ]
  },
  {
   "cell_type": "code",
   "execution_count": 14,
   "metadata": {},
   "outputs": [
    {
     "data": {
      "text/plain": [
       "True"
      ]
     },
     "execution_count": 14,
     "metadata": {},
     "output_type": "execute_result"
    }
   ],
   "source": [
    "word = 'アメリカ' # \"amerika\" = america\n",
    "word in byfile['content'][1][0]"
   ]
  },
  {
   "cell_type": "markdown",
   "metadata": {},
   "source": [
    "We can see here that it's probably a good thing that we kept everyone's utterances in one big long string, because that eliminates one more level of a data hierarchy to go into.  "
   ]
  },
  {
   "cell_type": "code",
   "execution_count": 15,
   "metadata": {},
   "outputs": [
    {
     "name": "stdout",
     "output_type": "stream",
     "text": [
      "69\n"
     ]
    }
   ],
   "source": [
    "ct = 0\n",
    "for i in range(len(bypar)):\n",
    "    if word in bypar['content'][i]:\n",
    "        ct += 1\n",
    "print(ct)"
   ]
  },
  {
   "cell_type": "markdown",
   "metadata": {},
   "source": [
    "So this means that the word for America appears 69 times in this dataset. Let's try another common word:"
   ]
  },
  {
   "cell_type": "code",
   "execution_count": 16,
   "metadata": {},
   "outputs": [
    {
     "name": "stdout",
     "output_type": "stream",
     "text": [
      "3\n"
     ]
    }
   ],
   "source": [
    "word = \"パーセント\" # paasento = percent\n",
    "ct = 0\n",
    "for i in range(len(bypar)):\n",
    "    if word in bypar['content'][i]:\n",
    "        ct += 1\n",
    "print(ct)"
   ]
  },
  {
   "cell_type": "code",
   "execution_count": 17,
   "metadata": {},
   "outputs": [
    {
     "name": "stdout",
     "output_type": "stream",
     "text": [
      "76\n"
     ]
    }
   ],
   "source": [
    "word = \"テレビ\" # terebi = television\n",
    "ct = 0\n",
    "for i in range(len(bypar)):\n",
    "    if word in bypar['content'][i]:\n",
    "        ct += 1\n",
    "print(ct)"
   ]
  },
  {
   "cell_type": "markdown",
   "metadata": {},
   "source": [
    "So the word for percent only shows up 3 times, but the word for television shows up 76 times... this makes sense since the word \"percent\" doesn't typically appear in casual conversation but \"television\" does. It seems likely that the frequencies in `wordlist` and the frequencies as far as how often these things actually appear in conversation. We could probably save some time from further analysis if we get rid of words that don't appear at all in these conversations. Let's do that now. "
   ]
  },
  {
   "cell_type": "code",
   "execution_count": 18,
   "metadata": {},
   "outputs": [],
   "source": [
    "wordlist['conv_freq'] = ''"
   ]
  },
  {
   "cell_type": "code",
   "execution_count": 19,
   "metadata": {},
   "outputs": [
    {
     "name": "stderr",
     "output_type": "stream",
     "text": [
      "C:\\Users\\lindsey rojtas\\Anaconda3\\lib\\site-packages\\ipykernel_launcher.py:10: SettingWithCopyWarning: \n",
      "A value is trying to be set on a copy of a slice from a DataFrame\n",
      "\n",
      "See the caveats in the documentation: http://pandas.pydata.org/pandas-docs/stable/user_guide/indexing.html#returning-a-view-versus-a-copy\n",
      "  # Remove the CWD from sys.path while we load stuff.\n"
     ]
    }
   ],
   "source": [
    "for i in range(len(wordlist)):\n",
    "    word =  wordlist['katakana'][i]\n",
    "    ct = 0\n",
    "    for j in range(len(bypar)):\n",
    "        if word in bypar['content'][j]:\n",
    "            ct += 1\n",
    "    if ct == 0:\n",
    "        wordlist['conv_freq'][i] = None\n",
    "    else:\n",
    "        wordlist['conv_freq'][i] = ct"
   ]
  },
  {
   "cell_type": "code",
   "execution_count": 20,
   "metadata": {},
   "outputs": [
    {
     "data": {
      "text/html": [
       "<div>\n",
       "<style scoped>\n",
       "    .dataframe tbody tr th:only-of-type {\n",
       "        vertical-align: middle;\n",
       "    }\n",
       "\n",
       "    .dataframe tbody tr th {\n",
       "        vertical-align: top;\n",
       "    }\n",
       "\n",
       "    .dataframe thead th {\n",
       "        text-align: right;\n",
       "    }\n",
       "</style>\n",
       "<table border=\"1\" class=\"dataframe\">\n",
       "  <thead>\n",
       "    <tr style=\"text-align: right;\">\n",
       "      <th></th>\n",
       "      <th>katakana</th>\n",
       "      <th>translation</th>\n",
       "      <th>frequency</th>\n",
       "      <th>conv_freq</th>\n",
       "    </tr>\n",
       "  </thead>\n",
       "  <tbody>\n",
       "    <tr>\n",
       "      <td>0</td>\n",
       "      <td>パーセント</td>\n",
       "      <td>percent</td>\n",
       "      <td>63392</td>\n",
       "      <td>3</td>\n",
       "    </tr>\n",
       "    <tr>\n",
       "      <td>1</td>\n",
       "      <td>アメリカ</td>\n",
       "      <td>America</td>\n",
       "      <td>28243</td>\n",
       "      <td>69</td>\n",
       "    </tr>\n",
       "    <tr>\n",
       "      <td>2</td>\n",
       "      <td>ページ</td>\n",
       "      <td>page</td>\n",
       "      <td>24642</td>\n",
       "      <td>27</td>\n",
       "    </tr>\n",
       "    <tr>\n",
       "      <td>3</td>\n",
       "      <td>センター</td>\n",
       "      <td>center</td>\n",
       "      <td>20664</td>\n",
       "      <td>33</td>\n",
       "    </tr>\n",
       "    <tr>\n",
       "      <td>4</td>\n",
       "      <td>サービス</td>\n",
       "      <td>service</td>\n",
       "      <td>16630</td>\n",
       "      <td>21</td>\n",
       "    </tr>\n",
       "    <tr>\n",
       "      <td>5</td>\n",
       "      <td>システム</td>\n",
       "      <td>system</td>\n",
       "      <td>16458</td>\n",
       "      <td>17</td>\n",
       "    </tr>\n",
       "    <tr>\n",
       "      <td>6</td>\n",
       "      <td>メートル</td>\n",
       "      <td>metre</td>\n",
       "      <td>15960</td>\n",
       "      <td>17</td>\n",
       "    </tr>\n",
       "    <tr>\n",
       "      <td>7</td>\n",
       "      <td>テレビ</td>\n",
       "      <td>television</td>\n",
       "      <td>15644</td>\n",
       "      <td>76</td>\n",
       "    </tr>\n",
       "    <tr>\n",
       "      <td>8</td>\n",
       "      <td>メール</td>\n",
       "      <td>mail</td>\n",
       "      <td>15589</td>\n",
       "      <td>72</td>\n",
       "    </tr>\n",
       "    <tr>\n",
       "      <td>9</td>\n",
       "      <td>データ</td>\n",
       "      <td>data</td>\n",
       "      <td>13210</td>\n",
       "      <td>28</td>\n",
       "    </tr>\n",
       "    <tr>\n",
       "      <td>10</td>\n",
       "      <td>フランス</td>\n",
       "      <td>France</td>\n",
       "      <td>10957</td>\n",
       "      <td>54</td>\n",
       "    </tr>\n",
       "    <tr>\n",
       "      <td>11</td>\n",
       "      <td>ポイント</td>\n",
       "      <td>point</td>\n",
       "      <td>10919</td>\n",
       "      <td>15</td>\n",
       "    </tr>\n",
       "    <tr>\n",
       "      <td>12</td>\n",
       "      <td>ホーム</td>\n",
       "      <td>home</td>\n",
       "      <td>10790</td>\n",
       "      <td>38</td>\n",
       "    </tr>\n",
       "    <tr>\n",
       "      <td>13</td>\n",
       "      <td>ホテル</td>\n",
       "      <td>hotel</td>\n",
       "      <td>10503</td>\n",
       "      <td>45</td>\n",
       "    </tr>\n",
       "    <tr>\n",
       "      <td>14</td>\n",
       "      <td>ブログ</td>\n",
       "      <td>blog</td>\n",
       "      <td>10205</td>\n",
       "      <td>None</td>\n",
       "    </tr>\n",
       "  </tbody>\n",
       "</table>\n",
       "</div>"
      ],
      "text/plain": [
       "   katakana translation  frequency conv_freq\n",
       "0     パーセント     percent      63392         3\n",
       "1      アメリカ     America      28243        69\n",
       "2       ページ        page      24642        27\n",
       "3      センター      center      20664        33\n",
       "4      サービス     service      16630        21\n",
       "5      システム      system      16458        17\n",
       "6      メートル       metre      15960        17\n",
       "7       テレビ  television      15644        76\n",
       "8       メール        mail      15589        72\n",
       "9       データ        data      13210        28\n",
       "10     フランス      France      10957        54\n",
       "11     ポイント       point      10919        15\n",
       "12      ホーム        home      10790        38\n",
       "13      ホテル       hotel      10503        45\n",
       "14      ブログ        blog      10205      None"
      ]
     },
     "execution_count": 20,
     "metadata": {},
     "output_type": "execute_result"
    }
   ],
   "source": [
    "wordlist.head(15)"
   ]
  },
  {
   "cell_type": "markdown",
   "metadata": {},
   "source": [
    "Again, the frequency column doesn't reflect how frequently these words appear in these conversation files. Let's drop words we don't see. "
   ]
  },
  {
   "cell_type": "code",
   "execution_count": 21,
   "metadata": {},
   "outputs": [],
   "source": [
    "wordlist = wordlist.dropna()"
   ]
  },
  {
   "cell_type": "code",
   "execution_count": 22,
   "metadata": {},
   "outputs": [],
   "source": [
    "wordlist = wordlist.reset_index(drop=True)"
   ]
  },
  {
   "cell_type": "code",
   "execution_count": 23,
   "metadata": {},
   "outputs": [
    {
     "data": {
      "text/html": [
       "<div>\n",
       "<style scoped>\n",
       "    .dataframe tbody tr th:only-of-type {\n",
       "        vertical-align: middle;\n",
       "    }\n",
       "\n",
       "    .dataframe tbody tr th {\n",
       "        vertical-align: top;\n",
       "    }\n",
       "\n",
       "    .dataframe thead th {\n",
       "        text-align: right;\n",
       "    }\n",
       "</style>\n",
       "<table border=\"1\" class=\"dataframe\">\n",
       "  <thead>\n",
       "    <tr style=\"text-align: right;\">\n",
       "      <th></th>\n",
       "      <th>katakana</th>\n",
       "      <th>translation</th>\n",
       "      <th>frequency</th>\n",
       "      <th>conv_freq</th>\n",
       "    </tr>\n",
       "  </thead>\n",
       "  <tbody>\n",
       "    <tr>\n",
       "      <td>0</td>\n",
       "      <td>パーセント</td>\n",
       "      <td>percent</td>\n",
       "      <td>63392</td>\n",
       "      <td>3</td>\n",
       "    </tr>\n",
       "    <tr>\n",
       "      <td>1</td>\n",
       "      <td>アメリカ</td>\n",
       "      <td>America</td>\n",
       "      <td>28243</td>\n",
       "      <td>69</td>\n",
       "    </tr>\n",
       "    <tr>\n",
       "      <td>2</td>\n",
       "      <td>ページ</td>\n",
       "      <td>page</td>\n",
       "      <td>24642</td>\n",
       "      <td>27</td>\n",
       "    </tr>\n",
       "    <tr>\n",
       "      <td>3</td>\n",
       "      <td>センター</td>\n",
       "      <td>center</td>\n",
       "      <td>20664</td>\n",
       "      <td>33</td>\n",
       "    </tr>\n",
       "    <tr>\n",
       "      <td>4</td>\n",
       "      <td>サービス</td>\n",
       "      <td>service</td>\n",
       "      <td>16630</td>\n",
       "      <td>21</td>\n",
       "    </tr>\n",
       "    <tr>\n",
       "      <td>5</td>\n",
       "      <td>システム</td>\n",
       "      <td>system</td>\n",
       "      <td>16458</td>\n",
       "      <td>17</td>\n",
       "    </tr>\n",
       "    <tr>\n",
       "      <td>6</td>\n",
       "      <td>メートル</td>\n",
       "      <td>metre</td>\n",
       "      <td>15960</td>\n",
       "      <td>17</td>\n",
       "    </tr>\n",
       "    <tr>\n",
       "      <td>7</td>\n",
       "      <td>テレビ</td>\n",
       "      <td>television</td>\n",
       "      <td>15644</td>\n",
       "      <td>76</td>\n",
       "    </tr>\n",
       "    <tr>\n",
       "      <td>8</td>\n",
       "      <td>メール</td>\n",
       "      <td>mail</td>\n",
       "      <td>15589</td>\n",
       "      <td>72</td>\n",
       "    </tr>\n",
       "    <tr>\n",
       "      <td>9</td>\n",
       "      <td>データ</td>\n",
       "      <td>data</td>\n",
       "      <td>13210</td>\n",
       "      <td>28</td>\n",
       "    </tr>\n",
       "    <tr>\n",
       "      <td>10</td>\n",
       "      <td>フランス</td>\n",
       "      <td>France</td>\n",
       "      <td>10957</td>\n",
       "      <td>54</td>\n",
       "    </tr>\n",
       "    <tr>\n",
       "      <td>11</td>\n",
       "      <td>ポイント</td>\n",
       "      <td>point</td>\n",
       "      <td>10919</td>\n",
       "      <td>15</td>\n",
       "    </tr>\n",
       "    <tr>\n",
       "      <td>12</td>\n",
       "      <td>ホーム</td>\n",
       "      <td>home</td>\n",
       "      <td>10790</td>\n",
       "      <td>38</td>\n",
       "    </tr>\n",
       "    <tr>\n",
       "      <td>13</td>\n",
       "      <td>ホテル</td>\n",
       "      <td>hotel</td>\n",
       "      <td>10503</td>\n",
       "      <td>45</td>\n",
       "    </tr>\n",
       "    <tr>\n",
       "      <td>14</td>\n",
       "      <td>クリック</td>\n",
       "      <td>click</td>\n",
       "      <td>10084</td>\n",
       "      <td>3</td>\n",
       "    </tr>\n",
       "  </tbody>\n",
       "</table>\n",
       "</div>"
      ],
      "text/plain": [
       "   katakana translation  frequency conv_freq\n",
       "0     パーセント     percent      63392         3\n",
       "1      アメリカ     America      28243        69\n",
       "2       ページ        page      24642        27\n",
       "3      センター      center      20664        33\n",
       "4      サービス     service      16630        21\n",
       "5      システム      system      16458        17\n",
       "6      メートル       metre      15960        17\n",
       "7       テレビ  television      15644        76\n",
       "8       メール        mail      15589        72\n",
       "9       データ        data      13210        28\n",
       "10     フランス      France      10957        54\n",
       "11     ポイント       point      10919        15\n",
       "12      ホーム        home      10790        38\n",
       "13      ホテル       hotel      10503        45\n",
       "14     クリック       click      10084         3"
      ]
     },
     "execution_count": 23,
     "metadata": {},
     "output_type": "execute_result"
    }
   ],
   "source": [
    "wordlist.head(15)"
   ]
  },
  {
   "cell_type": "code",
   "execution_count": 24,
   "metadata": {},
   "outputs": [
    {
     "data": {
      "text/plain": [
       "2734"
      ]
     },
     "execution_count": 24,
     "metadata": {},
     "output_type": "execute_result"
    }
   ],
   "source": [
    "len(wordlist)"
   ]
  },
  {
   "cell_type": "markdown",
   "metadata": {},
   "source": [
    "We cut our amount of words in half, wow. I wonder what the most frequently used word in these conversations was:"
   ]
  },
  {
   "cell_type": "code",
   "execution_count": 25,
   "metadata": {},
   "outputs": [
    {
     "data": {
      "text/plain": [
       "193"
      ]
     },
     "execution_count": 25,
     "metadata": {},
     "output_type": "execute_result"
    }
   ],
   "source": [
    "wordlist['conv_freq'].max()"
   ]
  },
  {
   "cell_type": "code",
   "execution_count": 26,
   "metadata": {},
   "outputs": [
    {
     "data": {
      "text/plain": [
       "'la'"
      ]
     },
     "execution_count": 26,
     "metadata": {},
     "output_type": "execute_result"
    }
   ],
   "source": [
    "wordlist['translation'][pd.Index(wordlist['conv_freq']).get_loc(193)]"
   ]
  },
  {
   "cell_type": "markdown",
   "metadata": {},
   "source": [
    "So here's another issue: the word for \"la\" (ラ) is probably only so frequent because it has the potential to appear in other words. "
   ]
  },
  {
   "cell_type": "code",
   "execution_count": 27,
   "metadata": {},
   "outputs": [
    {
     "name": "stdout",
     "output_type": "stream",
     "text": [
      "フランス, クラブ, ライン, カメラ, バランス, クラス, プログラム, ガラス, ドラマ, カラー, ブランド, ボランティア, プラス, ラジオ, レストラン, トラブル, ライブ, ドライブ, プラン, トラック, ラーメン, サラダ, イスラム, イラク, グラス, ラブ, オランダ, グラフ, ラン, オーストラリア, ランキング, ドライバー, ブラック, サラリーマン, ライフ, ランド, ブラジル, ランチ, キャラクター, ライト, キャラ, イスラエル, イラスト, プラスチック, オペラ, イラン, アラブ, ラッキー, ランプ, リラックス, グランド, コラム, ラベル, ライバル, ブラシ, ランク, ラウンド, ライター, ライオン, クラシック, グラウンド, ライト, ラスト, プライド, プライバシー, エラー, ベランダ, カメラマン, フライ, ドラゴン, リストラ, ウラン, マラソン, プライベート, ブラウン, ベテラン, ラ, ライダー, ラップ, ラテン, アラビア, コーラ, ミネラル, ドライ, ポーランド, マフラー, オーケストラ, ドラム, ライス, ピラミッド, フランク, ディーラー, クーラー, フォーラム, フラワー, フラッシュ, レギュラー, テラス, ラリー, ニュージーランド, プラント, ライセンス, ブラウス, サングラス, トランク, ライフスタイル, カウンセラー, セラー, ラッシュ, トライ, スライス, ストラップ, ミラノ, プラグ, モラル, オーラ, スコットランド, ミラー, キャラメル, ライト, フィンランド, ラグビー, カリキュラム, ランニング, マスカラ, フライト, アラン, バニラ, フラン, ララ, ローラ, カラフル, ポピュラー, ラフ, ブラン, ミラー, アトラクション, ラグ, ブラザー, ストライプ, ライナー, ミイラ, ストライク, プロペラ, フラ, ゴリラ, サウジアラビア, ラオス, ブラウン, ライ, トランプ, マニラ, ラット, スラム, トラスト, パノラマ, ドラフト, セントラル, ラム, ブラッド, ヒマラヤ, レスラー, ローラー, ブラインド, グラタン, シンデレラ, キラー, アイランド, セラピー, インストラクター, スリランカ, ショコラ, ミラ, ライアン, ラケット, ソプラノ, ハイライト, フランクフルト, マーラ, エキストラ, ライム, バーバラ, パラダイス, ビンラディン, クランク, ラック, トレーラー, ニコラス, スクラップ, ライティング, フランシス, スカイライン, ニコラ, ラム, トラップ, グラス, ラメ, スライダー, ラッピング, ライド, ギャラ, デラ, ガラ, トラクター, ラビ, サラ, ゴンドラ, ドライ, グラ, セラミック, フライド, トラベル, フランチャイズ, ラスベガス, パラ, ラス, ランス, ランディ, ラムネ, クラクション, フランソワ, フィラデルフィア, ラップ, グラム, タラ, ラマ, クライン, クラッカー, アトランタ, ブランク, クラ, オーロラ, カステラ, ニュートラル, フェラ, イクラ, クレオパトラ, パラソル, プランニング, ライク, パラレル, ビラ, ブランチ, クラリネット, ステラ, ラジエーター, モラトリアム, バックグラウンド, ラージ, カムフラージュ, キャラバン, ランド, バタフライ, プラダ, ワイングラス, アトランティス, エジンバラ, カローラ, トラス, サフラン, ブライダル, プラクティス, ミケランジェロ, コアラ, スクラブ, ブライアン, クラン, フランシスコ, ラーラ, ドラ, ラリー, プラネット, ライト, ランドリー, ラベル, ライク, クラ, ハイカラ, マラ, ラバ, リラ, グアテマラ, コロラド, セラ, クラブハウス, ベラ, ケラー, ブラ, サラ, テラ, ブラームス, トランジット, ハイランド, ブライ, プラ, ナイトクラブ, バトラー, アラカルト, トワイライト, ドラマー, フランソワーズ, プライム, ダラ, モーラ, ストラクチャー, ゼブラ, ラード, マラヤ, "
     ]
    }
   ],
   "source": [
    "for i in range(len(wordlist)):\n",
    "    if 'ラ' in wordlist['katakana'][i]:\n",
    "        print(wordlist['katakana'][i], end = ', ')"
   ]
  },
  {
   "cell_type": "markdown",
   "metadata": {},
   "source": [
    "That's a lot of words that are being counted as another usage of \"la.\" Maybe we should look at all \"words\" that are only one character in length and drop those too. "
   ]
  },
  {
   "cell_type": "code",
   "execution_count": 28,
   "metadata": {},
   "outputs": [
    {
     "name": "stderr",
     "output_type": "stream",
     "text": [
      "C:\\Users\\lindsey rojtas\\Anaconda3\\lib\\site-packages\\ipykernel_launcher.py:3: SettingWithCopyWarning: \n",
      "A value is trying to be set on a copy of a slice from a DataFrame\n",
      "\n",
      "See the caveats in the documentation: http://pandas.pydata.org/pandas-docs/stable/user_guide/indexing.html#returning-a-view-versus-a-copy\n",
      "  This is separate from the ipykernel package so we can avoid doing imports until\n"
     ]
    }
   ],
   "source": [
    "for i in range(len(wordlist)):\n",
    "    if len(wordlist['katakana'][i]) == 1:\n",
    "        wordlist['katakana'][i] = None"
   ]
  },
  {
   "cell_type": "code",
   "execution_count": 29,
   "metadata": {},
   "outputs": [],
   "source": [
    "wordlist = wordlist.dropna()"
   ]
  },
  {
   "cell_type": "code",
   "execution_count": 30,
   "metadata": {},
   "outputs": [],
   "source": [
    "wordlist = wordlist.reset_index(drop=True)"
   ]
  },
  {
   "cell_type": "code",
   "execution_count": 31,
   "metadata": {},
   "outputs": [
    {
     "data": {
      "text/plain": [
       "2722"
      ]
     },
     "execution_count": 31,
     "metadata": {},
     "output_type": "execute_result"
    }
   ],
   "source": [
    "len(wordlist)"
   ]
  },
  {
   "cell_type": "markdown",
   "metadata": {},
   "source": [
    "Only a couple words dropped, but it'll make a big difference later on. Let's check the most frequent word again:"
   ]
  },
  {
   "cell_type": "code",
   "execution_count": 32,
   "metadata": {},
   "outputs": [
    {
     "data": {
      "text/plain": [
       "138"
      ]
     },
     "execution_count": 32,
     "metadata": {},
     "output_type": "execute_result"
    }
   ],
   "source": [
    "wordlist['conv_freq'].max()"
   ]
  },
  {
   "cell_type": "code",
   "execution_count": 33,
   "metadata": {},
   "outputs": [
    {
     "data": {
      "text/plain": [
       "'strike'"
      ]
     },
     "execution_count": 33,
     "metadata": {},
     "output_type": "execute_result"
    }
   ],
   "source": [
    "wordlist['translation'][pd.Index(wordlist['conv_freq']).get_loc(138)]"
   ]
  },
  {
   "cell_type": "markdown",
   "metadata": {},
   "source": [
    "This is pretty neat! I wouldn't have expected this to be the most common word, but then again, I don't know what the conversation topics are. I'd investigate less-common words, but that's probably quite a few words. As I was debugging, I found a lot of words that only appeared once, but appeared nonetheless. It also seemed like my cutoff point back in progress report 1 was a good one; there were quite a few zero-frequency words towards the end of my list (part of my debugging process was to put print statements everywhere... not much else in the process other than trying to explain the code to my blissfully ignorant cat). \n",
    "  \n",
    "### Length vs. Frequency\n",
    "I do want to check out the length of these words and compare it to their frequencies. I noted in the last progress report that a shortened version of the word for \"centimeter\" is used more frequently than the full version, so I'm going to investigate the relationship between length (both in Katakana characters and English translation) and usage, if there is any relationship to begin with. This is a question I've wanted to investigate since the beginning, before I even came up with the idea of comparing Katakana use to age. "
   ]
  },
  {
   "cell_type": "code",
   "execution_count": 34,
   "metadata": {},
   "outputs": [],
   "source": [
    "def getlen(w):\n",
    "    ln = len(w)\n",
    "    return ln"
   ]
  },
  {
   "cell_type": "code",
   "execution_count": 35,
   "metadata": {},
   "outputs": [],
   "source": [
    "wordlist['kata_len'] = wordlist['katakana'].apply(getlen)\n",
    "wordlist['tln_len'] = wordlist['translation'].apply(getlen)"
   ]
  },
  {
   "cell_type": "code",
   "execution_count": 36,
   "metadata": {},
   "outputs": [
    {
     "data": {
      "text/html": [
       "<div>\n",
       "<style scoped>\n",
       "    .dataframe tbody tr th:only-of-type {\n",
       "        vertical-align: middle;\n",
       "    }\n",
       "\n",
       "    .dataframe tbody tr th {\n",
       "        vertical-align: top;\n",
       "    }\n",
       "\n",
       "    .dataframe thead th {\n",
       "        text-align: right;\n",
       "    }\n",
       "</style>\n",
       "<table border=\"1\" class=\"dataframe\">\n",
       "  <thead>\n",
       "    <tr style=\"text-align: right;\">\n",
       "      <th></th>\n",
       "      <th>katakana</th>\n",
       "      <th>translation</th>\n",
       "      <th>frequency</th>\n",
       "      <th>conv_freq</th>\n",
       "      <th>kata_len</th>\n",
       "      <th>tln_len</th>\n",
       "    </tr>\n",
       "  </thead>\n",
       "  <tbody>\n",
       "    <tr>\n",
       "      <td>0</td>\n",
       "      <td>パーセント</td>\n",
       "      <td>percent</td>\n",
       "      <td>63392</td>\n",
       "      <td>3</td>\n",
       "      <td>5</td>\n",
       "      <td>7</td>\n",
       "    </tr>\n",
       "    <tr>\n",
       "      <td>1</td>\n",
       "      <td>アメリカ</td>\n",
       "      <td>America</td>\n",
       "      <td>28243</td>\n",
       "      <td>69</td>\n",
       "      <td>4</td>\n",
       "      <td>7</td>\n",
       "    </tr>\n",
       "    <tr>\n",
       "      <td>2</td>\n",
       "      <td>ページ</td>\n",
       "      <td>page</td>\n",
       "      <td>24642</td>\n",
       "      <td>27</td>\n",
       "      <td>3</td>\n",
       "      <td>4</td>\n",
       "    </tr>\n",
       "    <tr>\n",
       "      <td>3</td>\n",
       "      <td>センター</td>\n",
       "      <td>center</td>\n",
       "      <td>20664</td>\n",
       "      <td>33</td>\n",
       "      <td>4</td>\n",
       "      <td>6</td>\n",
       "    </tr>\n",
       "    <tr>\n",
       "      <td>4</td>\n",
       "      <td>サービス</td>\n",
       "      <td>service</td>\n",
       "      <td>16630</td>\n",
       "      <td>21</td>\n",
       "      <td>4</td>\n",
       "      <td>7</td>\n",
       "    </tr>\n",
       "  </tbody>\n",
       "</table>\n",
       "</div>"
      ],
      "text/plain": [
       "  katakana translation  frequency conv_freq  kata_len  tln_len\n",
       "0    パーセント     percent      63392         3         5        7\n",
       "1     アメリカ     America      28243        69         4        7\n",
       "2      ページ        page      24642        27         3        4\n",
       "3     センター      center      20664        33         4        6\n",
       "4     サービス     service      16630        21         4        7"
      ]
     },
     "execution_count": 36,
     "metadata": {},
     "output_type": "execute_result"
    }
   ],
   "source": [
    "wordlist.head()"
   ]
  },
  {
   "cell_type": "code",
   "execution_count": 37,
   "metadata": {},
   "outputs": [
    {
     "data": {
      "text/plain": [
       "2"
      ]
     },
     "execution_count": 37,
     "metadata": {},
     "output_type": "execute_result"
    }
   ],
   "source": [
    "wordlist['kata_len'].min()"
   ]
  },
  {
   "cell_type": "code",
   "execution_count": 38,
   "metadata": {},
   "outputs": [
    {
     "data": {
      "text/plain": [
       "1"
      ]
     },
     "execution_count": 38,
     "metadata": {},
     "output_type": "execute_result"
    }
   ],
   "source": [
    "wordlist['tln_len'].min()"
   ]
  },
  {
   "cell_type": "code",
   "execution_count": 39,
   "metadata": {},
   "outputs": [
    {
     "data": {
      "text/plain": [
       "18         dollar\n",
       "28            bus\n",
       "33           kilo\n",
       "35           door\n",
       "39            one\n",
       "          ...    \n",
       "2684           外国\n",
       "2686    agitation\n",
       "2687         than\n",
       "2699          jig\n",
       "2713            I\n",
       "Name: translation, Length: 383, dtype: object"
      ]
     },
     "execution_count": 39,
     "metadata": {},
     "output_type": "execute_result"
    }
   ],
   "source": [
    "wordlist['translation'][pd.Index(wordlist['kata_len']).get_loc(2)]"
   ]
  },
  {
   "cell_type": "code",
   "execution_count": 40,
   "metadata": {},
   "outputs": [
    {
     "data": {
      "text/plain": [
       "377     H\n",
       "2158    四\n",
       "2713    I\n",
       "Name: translation, dtype: object"
      ]
     },
     "execution_count": 40,
     "metadata": {},
     "output_type": "execute_result"
    }
   ],
   "source": [
    "wordlist['translation'][pd.Index(wordlist['tln_len']).get_loc(1)]"
   ]
  },
  {
   "cell_type": "markdown",
   "metadata": {},
   "source": [
    "So as I was poking around, I noticed that even more of my words that I included should probably be dropped -- ones that don't seem to have been borrowed from English (外国 = foreign country). I really only want to focus on English borrowings, so let's just drop those real quick:"
   ]
  },
  {
   "cell_type": "code",
   "execution_count": 41,
   "metadata": {},
   "outputs": [
    {
     "name": "stderr",
     "output_type": "stream",
     "text": [
      "C:\\Users\\lindsey rojtas\\Anaconda3\\lib\\site-packages\\ipykernel_launcher.py:3: SettingWithCopyWarning: \n",
      "A value is trying to be set on a copy of a slice from a DataFrame\n",
      "\n",
      "See the caveats in the documentation: http://pandas.pydata.org/pandas-docs/stable/user_guide/indexing.html#returning-a-view-versus-a-copy\n",
      "  This is separate from the ipykernel package so we can avoid doing imports until\n"
     ]
    }
   ],
   "source": [
    "for i in range(len(wordlist)):\n",
    "    if wordlist['translation'][i] == '外国' or wordlist['translation'][i] == '四':\n",
    "        wordlist['translation'][i] = None"
   ]
  },
  {
   "cell_type": "code",
   "execution_count": 42,
   "metadata": {},
   "outputs": [],
   "source": [
    "wordlist = wordlist.dropna()"
   ]
  },
  {
   "cell_type": "code",
   "execution_count": 43,
   "metadata": {},
   "outputs": [],
   "source": [
    "wordlist = wordlist.reset_index(drop=True)"
   ]
  },
  {
   "cell_type": "code",
   "execution_count": 44,
   "metadata": {},
   "outputs": [
    {
     "data": {
      "text/plain": [
       "2612"
      ]
     },
     "execution_count": 44,
     "metadata": {},
     "output_type": "execute_result"
    }
   ],
   "source": [
    "len(wordlist)"
   ]
  },
  {
   "cell_type": "markdown",
   "metadata": {},
   "source": [
    "We still have a pretty sizable list here, despite all that we dropped. There are some other considerations we should take here, like how the translation for \"I\" can also be used as a name or a word for \"love\", but I don't know how the word is being used in the conversation, so I'm going to leave it in.   "
   ]
  },
  {
   "cell_type": "markdown",
   "metadata": {},
   "source": [
    "### Side Note: Double Counting"
   ]
  },
  {
   "cell_type": "markdown",
   "metadata": {},
   "source": [
    "In my cleaning, I did notice that \"agitation\" was one of the many words that had a two-katakana length:"
   ]
  },
  {
   "cell_type": "code",
   "execution_count": 45,
   "metadata": {},
   "outputs": [
    {
     "data": {
      "text/plain": [
       "katakana              アジ\n",
       "translation    agitation\n",
       "frequency             77\n",
       "conv_freq             23\n",
       "kata_len               2\n",
       "tln_len                9\n",
       "Name: 2577, dtype: object"
      ]
     },
     "execution_count": 45,
     "metadata": {},
     "output_type": "execute_result"
    }
   ],
   "source": [
    "wordlist.loc[2577]"
   ]
  },
  {
   "cell_type": "markdown",
   "metadata": {},
   "source": [
    "This is another word that I'm questioning the frequency of. アジ (aji) could also be part of other words. Let's do that same trick we pulled earlier."
   ]
  },
  {
   "cell_type": "code",
   "execution_count": 46,
   "metadata": {},
   "outputs": [
    {
     "name": "stdout",
     "output_type": "stream",
     "text": [
      "アジア, アジアン, アジト, アジ, "
     ]
    }
   ],
   "source": [
    "for i in range(len(wordlist)):\n",
    "    if 'アジ' in wordlist['katakana'][i]:\n",
    "        print(wordlist['katakana'][i], end = ', ')"
   ]
  },
  {
   "cell_type": "markdown",
   "metadata": {},
   "source": [
    "This doesn't seem to be as big of a deal, but I'm going to double check how many times these words show up as well as just アジ. "
   ]
  },
  {
   "cell_type": "code",
   "execution_count": 47,
   "metadata": {},
   "outputs": [
    {
     "data": {
      "text/plain": [
       "3"
      ]
     },
     "execution_count": 47,
     "metadata": {},
     "output_type": "execute_result"
    }
   ],
   "source": [
    "wordlist['conv_freq'][pd.Index(wordlist['katakana']).get_loc('アジアン')] # translation: asian "
   ]
  },
  {
   "cell_type": "code",
   "execution_count": 48,
   "metadata": {},
   "outputs": [
    {
     "data": {
      "text/plain": [
       "18"
      ]
     },
     "execution_count": 48,
     "metadata": {},
     "output_type": "execute_result"
    }
   ],
   "source": [
    "wordlist['conv_freq'][pd.Index(wordlist['katakana']).get_loc('アジア')] # translation: asia"
   ]
  },
  {
   "cell_type": "markdown",
   "metadata": {},
   "source": [
    "Note: there are three double-counts in here, so technically this word was used 15 times. "
   ]
  },
  {
   "cell_type": "code",
   "execution_count": 49,
   "metadata": {},
   "outputs": [
    {
     "data": {
      "text/plain": [
       "1"
      ]
     },
     "execution_count": 49,
     "metadata": {},
     "output_type": "execute_result"
    }
   ],
   "source": [
    "wordlist['conv_freq'][pd.Index(wordlist['katakana']).get_loc('アジト')] # translation: agitating point"
   ]
  },
  {
   "cell_type": "markdown",
   "metadata": {},
   "source": [
    "So アジ by itself was used, but not as much as these frequencies describe it to be. I'm going to call this issue quits for now because, frankly, I don't know where to go next with it. Feedback in the Guestbook or anywhere else is appreciated!"
   ]
  },
  {
   "cell_type": "markdown",
   "metadata": {},
   "source": [
    "### Visualization: Length vs Frequency\n",
    "We have two metrics of word length and two metrics of word frequency. There's stil a lot of words on this list, so I don't want to use all 2,000something of them, so I'm gonna visualize a couple of samples as well as some averages. \n",
    "  \n",
    "  \n",
    "In my sample graphs, I'll probably exclude the frequency given to me already in the data since the number is so large. I'm really going to look at words that have a longer translation length but a shorter Katakana length to try and find a correlation between length and frequency. "
   ]
  },
  {
   "cell_type": "markdown",
   "metadata": {},
   "source": [
    "In going through `wordlist.sample()` a bunch of times, I found words whose length is substantially shorter in Katakana than it is in English - ビル (biru = building), キャラ (kyara = character), and パソコン (pasukon = personal computer). As for longer words, I'm using デモンストレーション (demonsutoreeshon = demonstration) and コミュニケーション (komyunikeeshon = communication). For the sake of the graphs not looking terrible (because it'll be three smaller numbers with one huge number), I'll be ranking these words 1-5 (1 being least frequent as far as the dataset's listed web frequencies). \n",
    "  \n",
    "  \n"
   ]
  },
  {
   "cell_type": "code",
   "execution_count": 50,
   "metadata": {},
   "outputs": [],
   "source": [
    "toydict = {'word':['(character)', '(personal computer)', \n",
    "                       '(building)', '(demonstration)', # matplot doesn't like non-ascii characters\n",
    "                       '(communication)'], \n",
    "           'relative freq in given data':[10, 25, 20, 5, 15], # multiples of five so the graph looks less gross\n",
    "          'freq in conversational data':[19, 33, 18, 3, 19],\n",
    "          'length of katakana word':[3, 4, 2, 10, 9]}"
   ]
  },
  {
   "cell_type": "code",
   "execution_count": 51,
   "metadata": {},
   "outputs": [],
   "source": [
    "samplefreq_df = pd.DataFrame.from_dict(toydict)"
   ]
  },
  {
   "cell_type": "code",
   "execution_count": 52,
   "metadata": {},
   "outputs": [
    {
     "data": {
      "text/html": [
       "<div>\n",
       "<style scoped>\n",
       "    .dataframe tbody tr th:only-of-type {\n",
       "        vertical-align: middle;\n",
       "    }\n",
       "\n",
       "    .dataframe tbody tr th {\n",
       "        vertical-align: top;\n",
       "    }\n",
       "\n",
       "    .dataframe thead th {\n",
       "        text-align: right;\n",
       "    }\n",
       "</style>\n",
       "<table border=\"1\" class=\"dataframe\">\n",
       "  <thead>\n",
       "    <tr style=\"text-align: right;\">\n",
       "      <th></th>\n",
       "      <th>word</th>\n",
       "      <th>relative freq in given data</th>\n",
       "      <th>freq in conversational data</th>\n",
       "      <th>length of katakana word</th>\n",
       "    </tr>\n",
       "  </thead>\n",
       "  <tbody>\n",
       "    <tr>\n",
       "      <td>0</td>\n",
       "      <td>(character)</td>\n",
       "      <td>10</td>\n",
       "      <td>19</td>\n",
       "      <td>3</td>\n",
       "    </tr>\n",
       "    <tr>\n",
       "      <td>1</td>\n",
       "      <td>(personal computer)</td>\n",
       "      <td>25</td>\n",
       "      <td>33</td>\n",
       "      <td>4</td>\n",
       "    </tr>\n",
       "    <tr>\n",
       "      <td>2</td>\n",
       "      <td>(building)</td>\n",
       "      <td>20</td>\n",
       "      <td>18</td>\n",
       "      <td>2</td>\n",
       "    </tr>\n",
       "    <tr>\n",
       "      <td>3</td>\n",
       "      <td>(demonstration)</td>\n",
       "      <td>5</td>\n",
       "      <td>3</td>\n",
       "      <td>10</td>\n",
       "    </tr>\n",
       "    <tr>\n",
       "      <td>4</td>\n",
       "      <td>(communication)</td>\n",
       "      <td>15</td>\n",
       "      <td>19</td>\n",
       "      <td>9</td>\n",
       "    </tr>\n",
       "  </tbody>\n",
       "</table>\n",
       "</div>"
      ],
      "text/plain": [
       "                  word  relative freq in given data  \\\n",
       "0          (character)                           10   \n",
       "1  (personal computer)                           25   \n",
       "2           (building)                           20   \n",
       "3      (demonstration)                            5   \n",
       "4      (communication)                           15   \n",
       "\n",
       "   freq in conversational data  length of katakana word  \n",
       "0                           19                        3  \n",
       "1                           33                        4  \n",
       "2                           18                        2  \n",
       "3                            3                       10  \n",
       "4                           19                        9  "
      ]
     },
     "execution_count": 52,
     "metadata": {},
     "output_type": "execute_result"
    }
   ],
   "source": [
    "samplefreq_df"
   ]
  },
  {
   "cell_type": "code",
   "execution_count": 53,
   "metadata": {},
   "outputs": [
    {
     "data": {
      "text/plain": [
       "Text(0.5, 0, 'translated word')"
      ]
     },
     "execution_count": 53,
     "metadata": {},
     "output_type": "execute_result"
    },
    {
     "data": {
      "image/png": "[encoded data removed]",
      "text/plain": [
       "<Figure size 720x432 with 1 Axes>"
      ]
     },
     "metadata": {
      "needs_background": "light"
     },
     "output_type": "display_data"
    }
   ],
   "source": [
    "ax1 = samplefreq_df.plot(x=\"word\", title=\"sample word lengths & frequencies\", kind=\"bar\", figsize=(10,6))\n",
    "ax1.set_ylabel('count')\n",
    "ax1.set_xlabel('translated word')"
   ]
  },
  {
   "cell_type": "markdown",
   "metadata": {},
   "source": [
    "There seems to be some sort of correlation between length and frequency here. Of course, there aren't any comparisons between other words and their shortenings, but in the case of the shorter words, there isn't any long versions that we can use. We can check out \"demonstration\", though -- I know \"demo\" is in this word list, but I'm not sure if it shows up outside of where \"demonstration\" is used. Let's take a peek. \n",
    "  \n",
    "First, I'm going to make sure デモ doesn't come up anywhere else, since we'd have to take double counting into account"
   ]
  },
  {
   "cell_type": "code",
   "execution_count": 54,
   "metadata": {},
   "outputs": [
    {
     "name": "stdout",
     "output_type": "stream",
     "text": [
      "デモ, デモンストレーション, "
     ]
    }
   ],
   "source": [
    "for i in range(len(wordlist)):\n",
    "    if 'デモ' in wordlist['katakana'][i]:\n",
    "        print(wordlist['katakana'][i], end = ', ')"
   ]
  },
  {
   "cell_type": "markdown",
   "metadata": {},
   "source": [
    "Good -- it's just \"demo\" and \"demonstration.\""
   ]
  },
  {
   "cell_type": "code",
   "execution_count": 55,
   "metadata": {},
   "outputs": [
    {
     "data": {
      "text/plain": [
       "3"
      ]
     },
     "execution_count": 55,
     "metadata": {},
     "output_type": "execute_result"
    }
   ],
   "source": [
    "wordlist['conv_freq'][pd.Index(wordlist['katakana']).get_loc('デモンストレーション')] # translation: demonstration"
   ]
  },
  {
   "cell_type": "code",
   "execution_count": 56,
   "metadata": {},
   "outputs": [
    {
     "data": {
      "text/plain": [
       "9"
      ]
     },
     "execution_count": 56,
     "metadata": {},
     "output_type": "execute_result"
    }
   ],
   "source": [
    "wordlist['conv_freq'][pd.Index(wordlist['katakana']).get_loc('デモ')] # translation: demo "
   ]
  },
  {
   "cell_type": "markdown",
   "metadata": {},
   "source": [
    "Since we have to take double counting into account, the actual conversational frequency of デモ is 6. That is still twice the amount of uses as the longer word for \"demonstration.\" We can generalize here that word length and frequency are negatively correlated; the shorter the word, the more frequent the usage. This is not what I'm more focused on in the bigger picture though -- in a moment, I'll look at age vs katakana usage, but I'm going to take care of one more thing regarding double counting really quick. \n",
    "\n",
    "## Fixing the Double Counting Issue (post-progress report 3)\n",
    "  \n",
    "As Jevon mentioned in my progress report 3 comment, a POS tagger would definitely be useful as far as doublecounting, but as he said (and I very much agree with), it's a bit late in the game for that. \n",
    "  \n",
    "  \n",
    "John did mention that \"strike\" was a pretty suspicious common word, so let's look at it real quick:"
   ]
  },
  {
   "cell_type": "code",
   "execution_count": 57,
   "metadata": {},
   "outputs": [
    {
     "data": {
      "text/plain": [
       "'スト'"
      ]
     },
     "execution_count": 57,
     "metadata": {},
     "output_type": "execute_result"
    }
   ],
   "source": [
    "wordlist['katakana'][pd.Index(wordlist['conv_freq']).get_loc(138)]"
   ]
  },
  {
   "cell_type": "markdown",
   "metadata": {},
   "source": [
    "Umm, yeah, that'll appear pretty frequently. Let's see where else スト (suto) shows up. "
   ]
  },
  {
   "cell_type": "code",
   "execution_count": 58,
   "metadata": {},
   "outputs": [
    {
     "name": "stdout",
     "output_type": "stream",
     "text": [
      "コスト, キリスト, テスト, ストレス, ベスト, レストラン, リスト, テキスト, オーストラリア, ストーリー, イラスト, ポスト, ゲスト, ファースト, アーチスト, ストレート, ストップ, ラスト, ジャーナリスト, ストリート, リストラ, ストア, ストレッチ, ホスト, ウエスト, オーケストラ, キャスト, ストーン, リクエスト, ポスト, ボストン, コンテスト, ストーブ, ストラップ, テロリスト, ピストル, スト, トースト, ピアニスト, スタイリスト, ストーカー, ストッキング, ストライプ, ストライク, イースト, トラスト, ファースト, ヒストリー, ロースト, インストラクター, ウエスト, ジャスト, エキストラ, ゴースト, ダスト, コンテキスト, ストロベリー, エコノミスト, レスト, クエスト, ストーン, ストリップ, ストロング, デモンストレーション, イースト, バイオリニスト, ツーリスト, ポストカード, ストラクチャー, フォレスト, ネスト, "
     ]
    }
   ],
   "source": [
    "for i in range(len(wordlist)):\n",
    "    if 'スト' in wordlist['katakana'][i]:\n",
    "        print(wordlist['katakana'][i], end = ', ')"
   ]
  },
  {
   "cell_type": "markdown",
   "metadata": {},
   "source": [
    "Yeahhh, might wanna do the same thing here that we did with ラ. I didn't pay \"strike\" any mind at first because I thought that it would be the longer, unshortened version of the word, ストライク (sutoraiku), so it's on me that I didn't look into it further. "
   ]
  },
  {
   "cell_type": "code",
   "execution_count": 59,
   "metadata": {},
   "outputs": [
    {
     "name": "stderr",
     "output_type": "stream",
     "text": [
      "C:\\Users\\lindsey rojtas\\Anaconda3\\lib\\site-packages\\ipykernel_launcher.py:3: SettingWithCopyWarning: \n",
      "A value is trying to be set on a copy of a slice from a DataFrame\n",
      "\n",
      "See the caveats in the documentation: http://pandas.pydata.org/pandas-docs/stable/user_guide/indexing.html#returning-a-view-versus-a-copy\n",
      "  This is separate from the ipykernel package so we can avoid doing imports until\n"
     ]
    }
   ],
   "source": [
    "for i in range(len(wordlist)):\n",
    "    if wordlist['katakana'][i] == 'スト':\n",
    "        wordlist['katakana'][i] = None"
   ]
  },
  {
   "cell_type": "code",
   "execution_count": 60,
   "metadata": {},
   "outputs": [],
   "source": [
    "wordlist = wordlist.dropna()\n",
    "wordlist = wordlist.reset_index(drop=True)"
   ]
  },
  {
   "cell_type": "code",
   "execution_count": 61,
   "metadata": {},
   "outputs": [
    {
     "data": {
      "text/plain": [
       "2611"
      ]
     },
     "execution_count": 61,
     "metadata": {},
     "output_type": "execute_result"
    }
   ],
   "source": [
    "len(wordlist) # should be 2611"
   ]
  },
  {
   "cell_type": "code",
   "execution_count": 62,
   "metadata": {},
   "outputs": [
    {
     "data": {
      "text/plain": [
       "'Lee'"
      ]
     },
     "execution_count": 62,
     "metadata": {},
     "output_type": "execute_result"
    }
   ],
   "source": [
    "# checking again... \n",
    "wordlist['translation'][pd.Index(wordlist['conv_freq']).get_loc(wordlist['conv_freq'].max())]"
   ]
  },
  {
   "cell_type": "markdown",
   "metadata": {},
   "source": [
    "Now, this doesn't seem all that likely either... a quick solution here would be to drop any katakana words that are 2 characters long, but there are some two-character words that aren't prone to double counting (re: demo vs demonstration). I'm just going to drop this word and drop words with shorter translations to get rid of stop words that might trip up the word counter. "
   ]
  },
  {
   "cell_type": "code",
   "execution_count": 63,
   "metadata": {},
   "outputs": [
    {
     "name": "stderr",
     "output_type": "stream",
     "text": [
      "C:\\Users\\lindsey rojtas\\Anaconda3\\lib\\site-packages\\ipykernel_launcher.py:3: SettingWithCopyWarning: \n",
      "A value is trying to be set on a copy of a slice from a DataFrame\n",
      "\n",
      "See the caveats in the documentation: http://pandas.pydata.org/pandas-docs/stable/user_guide/indexing.html#returning-a-view-versus-a-copy\n",
      "  This is separate from the ipykernel package so we can avoid doing imports until\n"
     ]
    }
   ],
   "source": [
    "for i in range(len(wordlist)):\n",
    "    if wordlist['katakana'][i] == 'リー':\n",
    "        wordlist['katakana'][i] = None"
   ]
  },
  {
   "cell_type": "code",
   "execution_count": 64,
   "metadata": {},
   "outputs": [
    {
     "name": "stdout",
     "output_type": "stream",
     "text": [
      "up\n",
      "in\n",
      "on\n",
      "of\n",
      "my\n",
      "no\n",
      "to\n",
      "by\n",
      "H\n",
      "go\n",
      "at\n",
      "or\n",
      "me\n",
      "do\n",
      "is\n",
      "be\n",
      "ti\n",
      "al\n",
      "di\n",
      "Es\n",
      "je\n",
      "we\n",
      "if\n",
      "Po\n",
      "ad\n",
      "am\n",
      "ja\n",
      "an\n",
      "Ur\n",
      "I\n"
     ]
    }
   ],
   "source": [
    "for i in range(len(wordlist)): # many of these are function/stop words... others are gibberish. \n",
    "    if len(wordlist['translation'][i]) < 3: # let's get rid of them!\n",
    "        print(wordlist['translation'][i])"
   ]
  },
  {
   "cell_type": "code",
   "execution_count": 65,
   "metadata": {},
   "outputs": [
    {
     "name": "stderr",
     "output_type": "stream",
     "text": [
      "C:\\Users\\lindsey rojtas\\Anaconda3\\lib\\site-packages\\ipykernel_launcher.py:3: SettingWithCopyWarning: \n",
      "A value is trying to be set on a copy of a slice from a DataFrame\n",
      "\n",
      "See the caveats in the documentation: http://pandas.pydata.org/pandas-docs/stable/user_guide/indexing.html#returning-a-view-versus-a-copy\n",
      "  This is separate from the ipykernel package so we can avoid doing imports until\n"
     ]
    }
   ],
   "source": [
    "for i in range(len(wordlist)): \n",
    "    if len(wordlist['translation'][i]) < 3: \n",
    "        wordlist['katakana'][i] = None"
   ]
  },
  {
   "cell_type": "code",
   "execution_count": 66,
   "metadata": {},
   "outputs": [],
   "source": [
    "wordlist = wordlist.dropna()\n",
    "wordlist = wordlist.reset_index(drop=True)"
   ]
  },
  {
   "cell_type": "code",
   "execution_count": 67,
   "metadata": {},
   "outputs": [
    {
     "data": {
      "text/plain": [
       "2580"
      ]
     },
     "execution_count": 67,
     "metadata": {},
     "output_type": "execute_result"
    }
   ],
   "source": [
    "len(wordlist)"
   ]
  },
  {
   "cell_type": "code",
   "execution_count": 68,
   "metadata": {},
   "outputs": [
    {
     "name": "stderr",
     "output_type": "stream",
     "text": [
      "C:\\Users\\lindsey rojtas\\Anaconda3\\lib\\site-packages\\ipykernel_launcher.py:3: SettingWithCopyWarning: \n",
      "A value is trying to be set on a copy of a slice from a DataFrame\n",
      "\n",
      "See the caveats in the documentation: http://pandas.pydata.org/pandas-docs/stable/user_guide/indexing.html#returning-a-view-versus-a-copy\n",
      "  This is separate from the ipykernel package so we can avoid doing imports until\n"
     ]
    }
   ],
   "source": [
    "for i in range(len(wordlist)): # removing some shorter names/proper nouns \n",
    "    if len(wordlist['translation'][i]) < 4 and not wordlist['translation'][i].islower(): \n",
    "        wordlist['katakana'][i] = None"
   ]
  },
  {
   "cell_type": "code",
   "execution_count": 69,
   "metadata": {},
   "outputs": [],
   "source": [
    "wordlist = wordlist.dropna()\n",
    "wordlist = wordlist.reset_index(drop=True)"
   ]
  },
  {
   "cell_type": "code",
   "execution_count": 70,
   "metadata": {},
   "outputs": [
    {
     "data": {
      "text/plain": [
       "2544"
      ]
     },
     "execution_count": 70,
     "metadata": {},
     "output_type": "execute_result"
    }
   ],
   "source": [
    "len(wordlist)"
   ]
  },
  {
   "cell_type": "code",
   "execution_count": 71,
   "metadata": {},
   "outputs": [
    {
     "data": {
      "text/plain": [
       "'run'"
      ]
     },
     "execution_count": 71,
     "metadata": {},
     "output_type": "execute_result"
    }
   ],
   "source": [
    "wordlist['translation'][pd.Index(wordlist['conv_freq']).get_loc(wordlist['conv_freq'].max())]\n",
    "# umm... this isn't likely, but i can't think of a more generalized way to drop it"
   ]
  },
  {
   "cell_type": "markdown",
   "metadata": {},
   "source": [
    "This is getting to be a very obnoxious and lengthy process. I figured there would be a simpler way to do this, so I devised a plan: a loop that would go through the word list twice and subtract all the frequencies that were inflated by doublecounting. "
   ]
  },
  {
   "cell_type": "code",
   "execution_count": 72,
   "metadata": {},
   "outputs": [
    {
     "name": "stderr",
     "output_type": "stream",
     "text": [
      "C:\\Users\\lindsey rojtas\\Anaconda3\\lib\\site-packages\\ipykernel_launcher.py:5: SettingWithCopyWarning: \n",
      "A value is trying to be set on a copy of a slice from a DataFrame\n",
      "\n",
      "See the caveats in the documentation: http://pandas.pydata.org/pandas-docs/stable/user_guide/indexing.html#returning-a-view-versus-a-copy\n",
      "  \"\"\"\n"
     ]
    }
   ],
   "source": [
    "for i in range(len(wordlist)):\n",
    "    word = wordlist['katakana'][i]\n",
    "    for j in range(len(wordlist)):\n",
    "        if word in wordlist['katakana'][j] and not word == wordlist['katakana'][j]:\n",
    "            wordlist['conv_freq'][i] = wordlist['conv_freq'][i] - wordlist['conv_freq'][j]"
   ]
  },
  {
   "cell_type": "code",
   "execution_count": 73,
   "metadata": {},
   "outputs": [
    {
     "name": "stdout",
     "output_type": "stream",
     "text": [
      "pro プロ, man マン, bar バー, car カー, tel テル, star スター, new ニュー, Thailand タイ, part パート, day デー, John ジョン, run ラン, goal ゴール, sun サン, ring リング, range レンジ, market マーケット, cycle サイクル, Iran イラン, bell ベル, rear リア, eco エコ, Wien ウィーン, round ラウンド, mile マイル, venture  ベンチャー, mass マス, combination コンビ, pin ピン, port ポート, for フォー, cloth クロース, money マネー, roll ロール, Rhodes ローズ, Arabia アラビア, Philippe フィリップ, clean クリーン, core コア, sale セール, Frank フランク, rain レーン, Nick ニック, pre プレ, law ロー, four フォー, par パー, loop ループ, arch アーチ, tone トーン, fur ファー, less レス, location ロケ, stick スティック, channel チャン, trick トリック, through スルー, are アー, pinta ピン, yard ヤード, Khan ハン, sea シー, pea ピー, running ランニング, tie タイ, Scott スコット, age エージ, stay ステー, franc フラン, concert コン, bull ブル, Lynn リン, Lenin レーニン, Mark マルク, Long ロン, missa ミサ, parka パーカ, pull プル, river リバー, hula フラ, roux ルー, crew クルー, knee ニー, rye ライ, Bell ベル, ware ウェア, meta メタ, tongue タン, rum ラム, der デア, kali カリ, foot フット, joule ジュール, beau ボー, pain ペイン, mart マート, clitoris クリ, motion モーション, burger バーガー, sen セン, Neill ニール, Lowe ロー, search サーチ, flon フロン, trio トリオ, Troy トロイ, aux オー, flannel ネル, Messe メッセ, lamb ラム, trap トラップ, role ロール, report レポ, foundation ファンデ, eat イート, eau オー, carta カルタ, techno テクノ, toe トー, cult カルト, this ディス, Joan ジョーン, Donald ドナルド, Philharmonie フィル, gras グラ, coop コープ, here ヒア, application アプリ, lath ラス, schooling スク, Reims ランス, sword ソード, Korea コリア, Dubai ドバイ, Logan ローガン, operation オペ, pick ピック, Judas ユダ, varnish ニス, Lloyd ロイド, suspension サス, buzzer ブザー, clarinet クラ, surf サーフ, nation ネーション, rest レスト, robe ローブ, census センサス, draw ドロー, fin フィン, pike パイク, Stella ステラ, met メット, cosmo コスモ, accessory アクセ, large ラージ, Joule ジュール, her ハー, Celt ケルト, trawl トロール, fee フィー, camisole キャミ, bye バイ, mitt ミット, anima アニマ, collection コレ, feel フィール, joy ジョイ, Porto ポルト, Sith シス, see シー, Temps タン, premier プレミア, mani マニ, stun スタン, deco デコ, Luzon ルソン, draft ドラ, lake レーク, caliph カリフ, Bark バーク, pamphlet パンフ, mara マラ, lilas リラ, yet イエット, baht バーツ, Bulgari ブルガリ, rotation ローテ, terra テラ, Burke バーク, Vague バーグ, bot ボット, low ロー, sage セージ, masar マーシャル, Malaya マラヤ, let レット, grape グレープ, silly シリー, "
     ]
    }
   ],
   "source": [
    "for i in range(len(wordlist)):\n",
    "    if wordlist['conv_freq'][i] <= 0:\n",
    "        print(wordlist['translation'][i], wordlist['katakana'][i], end=', ')"
   ]
  },
  {
   "cell_type": "markdown",
   "metadata": {},
   "source": [
    "This seems to have worked. There are some odd finds here, like \"grape\" and \"clean\" and \"caliph\", but those were all the result of the words \"grapefruit\", \"screen\", and \"California.\" I went through and tested the more suspicious words, and all of them had at least one word that contributed to their double counting. That said, let's drop these!"
   ]
  },
  {
   "cell_type": "code",
   "execution_count": 74,
   "metadata": {},
   "outputs": [
    {
     "name": "stderr",
     "output_type": "stream",
     "text": [
      "C:\\Users\\lindsey rojtas\\Anaconda3\\lib\\site-packages\\ipykernel_launcher.py:3: SettingWithCopyWarning: \n",
      "A value is trying to be set on a copy of a slice from a DataFrame\n",
      "\n",
      "See the caveats in the documentation: http://pandas.pydata.org/pandas-docs/stable/user_guide/indexing.html#returning-a-view-versus-a-copy\n",
      "  This is separate from the ipykernel package so we can avoid doing imports until\n"
     ]
    }
   ],
   "source": [
    "for i in range(len(wordlist)):\n",
    "    if wordlist['conv_freq'][i] <= 0:\n",
    "        wordlist['katakana'][i] = None\n"
   ]
  },
  {
   "cell_type": "code",
   "execution_count": 75,
   "metadata": {},
   "outputs": [],
   "source": [
    "wordlist = wordlist.dropna()\n",
    "wordlist = wordlist.reset_index(drop=True)"
   ]
  },
  {
   "cell_type": "code",
   "execution_count": 76,
   "metadata": {},
   "outputs": [
    {
     "data": {
      "text/plain": [
       "2345"
      ]
     },
     "execution_count": 76,
     "metadata": {},
     "output_type": "execute_result"
    }
   ],
   "source": [
    "len(wordlist) # dropped 200ish words..."
   ]
  },
  {
   "cell_type": "code",
   "execution_count": 77,
   "metadata": {},
   "outputs": [
    {
     "data": {
      "text/plain": [
       "'テレビ'"
      ]
     },
     "execution_count": 77,
     "metadata": {},
     "output_type": "execute_result"
    }
   ],
   "source": [
    "wordlist['katakana'][pd.Index(wordlist['conv_freq']).get_loc(wordlist['conv_freq'].max())]"
   ]
  },
  {
   "cell_type": "markdown",
   "metadata": {},
   "source": [
    "This looks very very promising... テレビ means \"television\" and is a pretty common word. Let's go back to demo from earlier; double counted, it appeared nine times, but it should've only appeared six:"
   ]
  },
  {
   "cell_type": "code",
   "execution_count": 78,
   "metadata": {},
   "outputs": [
    {
     "data": {
      "text/plain": [
       "6"
      ]
     },
     "execution_count": 78,
     "metadata": {},
     "output_type": "execute_result"
    }
   ],
   "source": [
    "wordlist['conv_freq'][pd.Index(wordlist['katakana']).get_loc('デモ')] # is it 6?"
   ]
  },
  {
   "cell_type": "markdown",
   "metadata": {},
   "source": [
    "Success! Didn't need a POS tagger at all.   \n",
    "  \n",
    "  \n",
    "That said, let's do a quick Spearman Rho correlation check and add in some visualization:"
   ]
  },
  {
   "cell_type": "code",
   "execution_count": 79,
   "metadata": {},
   "outputs": [
    {
     "data": {
      "text/plain": [
       "-0.25779559889473475"
      ]
     },
     "execution_count": 79,
     "metadata": {},
     "output_type": "execute_result"
    }
   ],
   "source": [
    "stats.spearmanr(wordlist['kata_len'], wordlist['conv_freq']).correlation "
   ]
  },
  {
   "cell_type": "code",
   "execution_count": 80,
   "metadata": {},
   "outputs": [
    {
     "data": {
      "text/plain": [
       "<seaborn.axisgrid.FacetGrid at 0x1d8ce0ce888>"
      ]
     },
     "execution_count": 80,
     "metadata": {},
     "output_type": "execute_result"
    },
    {
     "data": {
      "image/png": "[encoded data removed]",
      "text/plain": [
       "<Figure size 1152x576 with 1 Axes>"
      ]
     },
     "metadata": {
      "needs_background": "light"
     },
     "output_type": "display_data"
    }
   ],
   "source": [
    "sns.catplot(x='kata_len', y='conv_freq', data=wordlist, kind='swarm', height=8, aspect=2)"
   ]
  },
  {
   "cell_type": "markdown",
   "metadata": {},
   "source": [
    "To conclude our length analysis: **there is some negative correlation between length in katakana and conversational frequency for Japanese loan words.**"
   ]
  },
  {
   "cell_type": "markdown",
   "metadata": {},
   "source": [
    "## Age vs Katakana Usage\n",
    "Now, let's (finally) take a look at age! First and foremost, I need to find how many katakana words by each participant. I'm going to make use of the `count` string function here to add up all the times a certain word appears in a certain participant's conversation string. I'll do this for all of the words (another nested for loop... I'm not happy about it either) and then move on to analysis with a mixed effects model. "
   ]
  },
  {
   "cell_type": "code",
   "execution_count": 81,
   "metadata": {},
   "outputs": [
    {
     "name": "stderr",
     "output_type": "stream",
     "text": [
      "C:\\Users\\lindsey rojtas\\Anaconda3\\lib\\site-packages\\ipykernel_launcher.py:8: SettingWithCopyWarning: \n",
      "A value is trying to be set on a copy of a slice from a DataFrame\n",
      "\n",
      "See the caveats in the documentation: http://pandas.pydata.org/pandas-docs/stable/user_guide/indexing.html#returning-a-view-versus-a-copy\n",
      "  \n"
     ]
    }
   ],
   "source": [
    "bypar['kata_count'] = 0\n",
    "for i in range(len(bypar)):\n",
    "    st = bypar['content'][i]\n",
    "    tmp = 0\n",
    "    for j in range(len(wordlist)):\n",
    "        word = wordlist['katakana'][j]\n",
    "        tmp = st.count(word)\n",
    "        bypar['kata_count'][i] += tmp\n",
    "    "
   ]
  },
  {
   "cell_type": "code",
   "execution_count": 82,
   "metadata": {},
   "outputs": [
    {
     "data": {
      "text/html": [
       "<div>\n",
       "<style scoped>\n",
       "    .dataframe tbody tr th:only-of-type {\n",
       "        vertical-align: middle;\n",
       "    }\n",
       "\n",
       "    .dataframe tbody tr th {\n",
       "        vertical-align: top;\n",
       "    }\n",
       "\n",
       "    .dataframe thead th {\n",
       "        text-align: right;\n",
       "    }\n",
       "</style>\n",
       "<table border=\"1\" class=\"dataframe\">\n",
       "  <thead>\n",
       "    <tr style=\"text-align: right;\">\n",
       "      <th></th>\n",
       "      <th>participant</th>\n",
       "      <th>age</th>\n",
       "      <th>appears_count</th>\n",
       "      <th>appears_in</th>\n",
       "      <th>content</th>\n",
       "      <th>length</th>\n",
       "      <th>kata_count</th>\n",
       "    </tr>\n",
       "  </thead>\n",
       "  <tbody>\n",
       "    <tr>\n",
       "      <td>0</td>\n",
       "      <td>F001</td>\n",
       "      <td>Early 20s</td>\n",
       "      <td>5</td>\n",
       "      <td>[data105.txt, data086.txt, data076.txt, data07...</td>\n",
       "      <td>うーん、わかんない。そういうこと言わないで。うるさいな。うるさい。うるさいって言ってるの。う...</td>\n",
       "      <td>36989</td>\n",
       "      <td>496</td>\n",
       "    </tr>\n",
       "    <tr>\n",
       "      <td>1</td>\n",
       "      <td>F002</td>\n",
       "      <td>Late 60's</td>\n",
       "      <td>3</td>\n",
       "      <td>[data033.txt, data032.txt, data031.txt]</td>\n",
       "      <td>２７歳から現在まで東京都に居住。南仏へいらしたそうだけど、（うん）どうでしたか。みんな、太っ...</td>\n",
       "      <td>27372</td>\n",
       "      <td>491</td>\n",
       "    </tr>\n",
       "    <tr>\n",
       "      <td>2</td>\n",
       "      <td>F003</td>\n",
       "      <td>Late 80's</td>\n",
       "      <td>1</td>\n",
       "      <td>[data129.txt]</td>\n",
       "      <td>そうねえ。＜笑い＞先生はね、師範卒業したのがねえ、１９歳だったのよ。だーから、若い先生でね。...</td>\n",
       "      <td>5615</td>\n",
       "      <td>8</td>\n",
       "    </tr>\n",
       "    <tr>\n",
       "      <td>3</td>\n",
       "      <td>F004</td>\n",
       "      <td>Late 20's</td>\n",
       "      <td>14</td>\n",
       "      <td>[data096.txt, data094.txt, data092.txt, data08...</td>\n",
       "      <td>うん、まあね。はい、もう始まってますからね。よろしくね。ちょっとちょっと、ちゃんとさ、つなぐ...</td>\n",
       "      <td>133395</td>\n",
       "      <td>1556</td>\n",
       "    </tr>\n",
       "    <tr>\n",
       "      <td>4</td>\n",
       "      <td>F005</td>\n",
       "      <td>Late 20's</td>\n",
       "      <td>3</td>\n",
       "      <td>[data052.txt, data023.txt, data015.txt]</td>\n",
       "      <td>はーい。いや、F034さんってー、やっぱりー、ハンバーガーとか好きですよねー。＊はなしを＊。...</td>\n",
       "      <td>24084</td>\n",
       "      <td>309</td>\n",
       "    </tr>\n",
       "  </tbody>\n",
       "</table>\n",
       "</div>"
      ],
      "text/plain": [
       "  participant        age  appears_count  \\\n",
       "0        F001  Early 20s              5   \n",
       "1        F002  Late 60's              3   \n",
       "2        F003  Late 80's              1   \n",
       "3        F004  Late 20's             14   \n",
       "4        F005  Late 20's              3   \n",
       "\n",
       "                                          appears_in  \\\n",
       "0  [data105.txt, data086.txt, data076.txt, data07...   \n",
       "1            [data033.txt, data032.txt, data031.txt]   \n",
       "2                                      [data129.txt]   \n",
       "3  [data096.txt, data094.txt, data092.txt, data08...   \n",
       "4            [data052.txt, data023.txt, data015.txt]   \n",
       "\n",
       "                                             content  length  kata_count  \n",
       "0  うーん、わかんない。そういうこと言わないで。うるさいな。うるさい。うるさいって言ってるの。う...   36989         496  \n",
       "1  ２７歳から現在まで東京都に居住。南仏へいらしたそうだけど、（うん）どうでしたか。みんな、太っ...   27372         491  \n",
       "2  そうねえ。＜笑い＞先生はね、師範卒業したのがねえ、１９歳だったのよ。だーから、若い先生でね。...    5615           8  \n",
       "3  うん、まあね。はい、もう始まってますからね。よろしくね。ちょっとちょっと、ちゃんとさ、つなぐ...  133395        1556  \n",
       "4  はーい。いや、F034さんってー、やっぱりー、ハンバーガーとか好きですよねー。＊はなしを＊。...   24084         309  "
      ]
     },
     "execution_count": 82,
     "metadata": {},
     "output_type": "execute_result"
    }
   ],
   "source": [
    "bypar.head()"
   ]
  },
  {
   "cell_type": "code",
   "execution_count": 83,
   "metadata": {},
   "outputs": [
    {
     "data": {
      "text/html": [
       "<div>\n",
       "<style scoped>\n",
       "    .dataframe tbody tr th:only-of-type {\n",
       "        vertical-align: middle;\n",
       "    }\n",
       "\n",
       "    .dataframe tbody tr th {\n",
       "        vertical-align: top;\n",
       "    }\n",
       "\n",
       "    .dataframe thead th {\n",
       "        text-align: right;\n",
       "    }\n",
       "</style>\n",
       "<table border=\"1\" class=\"dataframe\">\n",
       "  <thead>\n",
       "    <tr style=\"text-align: right;\">\n",
       "      <th></th>\n",
       "      <th>participant</th>\n",
       "      <th>age</th>\n",
       "      <th>appears_count</th>\n",
       "      <th>appears_in</th>\n",
       "      <th>content</th>\n",
       "      <th>length</th>\n",
       "      <th>kata_count</th>\n",
       "    </tr>\n",
       "  </thead>\n",
       "  <tbody>\n",
       "    <tr>\n",
       "      <td>109</td>\n",
       "      <td>F112</td>\n",
       "      <td>Late teens</td>\n",
       "      <td>1</td>\n",
       "      <td>[data125.txt]</td>\n",
       "      <td>始まったよ。学校の話？うち、模擬クラスやってビデオ録ってたからー。そう。あれ見て、自分の声が...</td>\n",
       "      <td>6714</td>\n",
       "      <td>91</td>\n",
       "    </tr>\n",
       "    <tr>\n",
       "      <td>185</td>\n",
       "      <td>M026</td>\n",
       "      <td>Late 40's</td>\n",
       "      <td>1</td>\n",
       "      <td>[data005.txt]</td>\n",
       "      <td>は？＊名駅ビル＊。練習見にいっとった。何で？日曜日バーベキューやるの。一緒だ、僕らと。うん。...</td>\n",
       "      <td>746</td>\n",
       "      <td>25</td>\n",
       "    </tr>\n",
       "    <tr>\n",
       "      <td>34</td>\n",
       "      <td>F036</td>\n",
       "      <td>Early 30s</td>\n",
       "      <td>1</td>\n",
       "      <td>[data045.txt]</td>\n",
       "      <td>そうそう。そうだね、ない。なしでいい？はい。そうそうそうそうそうそうそうそうそう。そうなのよ...</td>\n",
       "      <td>10286</td>\n",
       "      <td>151</td>\n",
       "    </tr>\n",
       "    <tr>\n",
       "      <td>61</td>\n",
       "      <td>F063</td>\n",
       "      <td>Late 20's</td>\n",
       "      <td>1</td>\n",
       "      <td>[data128.txt]</td>\n",
       "      <td>なんでそれでアメリカ住んでたねー。必ずさあ、スティルウォーターとかあ。緑茶なんだよね、でもF...</td>\n",
       "      <td>4319</td>\n",
       "      <td>68</td>\n",
       "    </tr>\n",
       "    <tr>\n",
       "      <td>126</td>\n",
       "      <td>F129</td>\n",
       "      <td>Late 60's</td>\n",
       "      <td>1</td>\n",
       "      <td>[data029.txt]</td>\n",
       "      <td>＊＊＊使わなきゃだめみたいの。（え？）＊＊＊か何かやってらっしゃる？いや、飲めるけど、（＊＊...</td>\n",
       "      <td>7768</td>\n",
       "      <td>177</td>\n",
       "    </tr>\n",
       "  </tbody>\n",
       "</table>\n",
       "</div>"
      ],
      "text/plain": [
       "    participant         age  appears_count     appears_in  \\\n",
       "109        F112  Late teens              1  [data125.txt]   \n",
       "185        M026   Late 40's              1  [data005.txt]   \n",
       "34         F036   Early 30s              1  [data045.txt]   \n",
       "61         F063   Late 20's              1  [data128.txt]   \n",
       "126        F129   Late 60's              1  [data029.txt]   \n",
       "\n",
       "                                               content  length  kata_count  \n",
       "109  始まったよ。学校の話？うち、模擬クラスやってビデオ録ってたからー。そう。あれ見て、自分の声が...    6714          91  \n",
       "185  は？＊名駅ビル＊。練習見にいっとった。何で？日曜日バーベキューやるの。一緒だ、僕らと。うん。...     746          25  \n",
       "34   そうそう。そうだね、ない。なしでいい？はい。そうそうそうそうそうそうそうそうそう。そうなのよ...   10286         151  \n",
       "61   なんでそれでアメリカ住んでたねー。必ずさあ、スティルウォーターとかあ。緑茶なんだよね、でもF...    4319          68  \n",
       "126  ＊＊＊使わなきゃだめみたいの。（え？）＊＊＊か何かやってらっしゃる？いや、飲めるけど、（＊＊...    7768         177  "
      ]
     },
     "execution_count": 83,
     "metadata": {},
     "output_type": "execute_result"
    }
   ],
   "source": [
    "bypar.sample(5)"
   ]
  },
  {
   "cell_type": "markdown",
   "metadata": {},
   "source": [
    "This is looking interesting. Generally, it looks like younger speakers are using more katakana words, but at the same time, some speakers speak way more than others. This said, I'm going to take a ratio of katakana word count to length "
   ]
  },
  {
   "cell_type": "code",
   "execution_count": 84,
   "metadata": {},
   "outputs": [],
   "source": [
    "bypar['kata_len_ratio'] = 0.0"
   ]
  },
  {
   "cell_type": "code",
   "execution_count": 85,
   "metadata": {},
   "outputs": [
    {
     "name": "stderr",
     "output_type": "stream",
     "text": [
      "C:\\Users\\lindsey rojtas\\Anaconda3\\lib\\site-packages\\ipykernel_launcher.py:2: SettingWithCopyWarning: \n",
      "A value is trying to be set on a copy of a slice from a DataFrame\n",
      "\n",
      "See the caveats in the documentation: http://pandas.pydata.org/pandas-docs/stable/user_guide/indexing.html#returning-a-view-versus-a-copy\n",
      "  \n"
     ]
    }
   ],
   "source": [
    "for i in range (len(bypar)):\n",
    "    bypar['kata_len_ratio'][i] =  bypar['kata_count'][i] / bypar['length'][i]"
   ]
  },
  {
   "cell_type": "code",
   "execution_count": 86,
   "metadata": {},
   "outputs": [
    {
     "data": {
      "text/html": [
       "<div>\n",
       "<style scoped>\n",
       "    .dataframe tbody tr th:only-of-type {\n",
       "        vertical-align: middle;\n",
       "    }\n",
       "\n",
       "    .dataframe tbody tr th {\n",
       "        vertical-align: top;\n",
       "    }\n",
       "\n",
       "    .dataframe thead th {\n",
       "        text-align: right;\n",
       "    }\n",
       "</style>\n",
       "<table border=\"1\" class=\"dataframe\">\n",
       "  <thead>\n",
       "    <tr style=\"text-align: right;\">\n",
       "      <th></th>\n",
       "      <th>participant</th>\n",
       "      <th>age</th>\n",
       "      <th>appears_count</th>\n",
       "      <th>appears_in</th>\n",
       "      <th>content</th>\n",
       "      <th>length</th>\n",
       "      <th>kata_count</th>\n",
       "      <th>kata_len_ratio</th>\n",
       "    </tr>\n",
       "  </thead>\n",
       "  <tbody>\n",
       "    <tr>\n",
       "      <td>0</td>\n",
       "      <td>F001</td>\n",
       "      <td>Early 20s</td>\n",
       "      <td>5</td>\n",
       "      <td>[data105.txt, data086.txt, data076.txt, data07...</td>\n",
       "      <td>うーん、わかんない。そういうこと言わないで。うるさいな。うるさい。うるさいって言ってるの。う...</td>\n",
       "      <td>36989</td>\n",
       "      <td>496</td>\n",
       "      <td>0.013409</td>\n",
       "    </tr>\n",
       "    <tr>\n",
       "      <td>1</td>\n",
       "      <td>F002</td>\n",
       "      <td>Late 60's</td>\n",
       "      <td>3</td>\n",
       "      <td>[data033.txt, data032.txt, data031.txt]</td>\n",
       "      <td>２７歳から現在まで東京都に居住。南仏へいらしたそうだけど、（うん）どうでしたか。みんな、太っ...</td>\n",
       "      <td>27372</td>\n",
       "      <td>491</td>\n",
       "      <td>0.017938</td>\n",
       "    </tr>\n",
       "    <tr>\n",
       "      <td>2</td>\n",
       "      <td>F003</td>\n",
       "      <td>Late 80's</td>\n",
       "      <td>1</td>\n",
       "      <td>[data129.txt]</td>\n",
       "      <td>そうねえ。＜笑い＞先生はね、師範卒業したのがねえ、１９歳だったのよ。だーから、若い先生でね。...</td>\n",
       "      <td>5615</td>\n",
       "      <td>8</td>\n",
       "      <td>0.001425</td>\n",
       "    </tr>\n",
       "    <tr>\n",
       "      <td>3</td>\n",
       "      <td>F004</td>\n",
       "      <td>Late 20's</td>\n",
       "      <td>14</td>\n",
       "      <td>[data096.txt, data094.txt, data092.txt, data08...</td>\n",
       "      <td>うん、まあね。はい、もう始まってますからね。よろしくね。ちょっとちょっと、ちゃんとさ、つなぐ...</td>\n",
       "      <td>133395</td>\n",
       "      <td>1556</td>\n",
       "      <td>0.011665</td>\n",
       "    </tr>\n",
       "    <tr>\n",
       "      <td>4</td>\n",
       "      <td>F005</td>\n",
       "      <td>Late 20's</td>\n",
       "      <td>3</td>\n",
       "      <td>[data052.txt, data023.txt, data015.txt]</td>\n",
       "      <td>はーい。いや、F034さんってー、やっぱりー、ハンバーガーとか好きですよねー。＊はなしを＊。...</td>\n",
       "      <td>24084</td>\n",
       "      <td>309</td>\n",
       "      <td>0.012830</td>\n",
       "    </tr>\n",
       "  </tbody>\n",
       "</table>\n",
       "</div>"
      ],
      "text/plain": [
       "  participant        age  appears_count  \\\n",
       "0        F001  Early 20s              5   \n",
       "1        F002  Late 60's              3   \n",
       "2        F003  Late 80's              1   \n",
       "3        F004  Late 20's             14   \n",
       "4        F005  Late 20's              3   \n",
       "\n",
       "                                          appears_in  \\\n",
       "0  [data105.txt, data086.txt, data076.txt, data07...   \n",
       "1            [data033.txt, data032.txt, data031.txt]   \n",
       "2                                      [data129.txt]   \n",
       "3  [data096.txt, data094.txt, data092.txt, data08...   \n",
       "4            [data052.txt, data023.txt, data015.txt]   \n",
       "\n",
       "                                             content  length  kata_count  \\\n",
       "0  うーん、わかんない。そういうこと言わないで。うるさいな。うるさい。うるさいって言ってるの。う...   36989         496   \n",
       "1  ２７歳から現在まで東京都に居住。南仏へいらしたそうだけど、（うん）どうでしたか。みんな、太っ...   27372         491   \n",
       "2  そうねえ。＜笑い＞先生はね、師範卒業したのがねえ、１９歳だったのよ。だーから、若い先生でね。...    5615           8   \n",
       "3  うん、まあね。はい、もう始まってますからね。よろしくね。ちょっとちょっと、ちゃんとさ、つなぐ...  133395        1556   \n",
       "4  はーい。いや、F034さんってー、やっぱりー、ハンバーガーとか好きですよねー。＊はなしを＊。...   24084         309   \n",
       "\n",
       "   kata_len_ratio  \n",
       "0        0.013409  \n",
       "1        0.017938  \n",
       "2        0.001425  \n",
       "3        0.011665  \n",
       "4        0.012830  "
      ]
     },
     "execution_count": 86,
     "metadata": {},
     "output_type": "execute_result"
    }
   ],
   "source": [
    "bypar.head()"
   ]
  },
  {
   "cell_type": "code",
   "execution_count": 87,
   "metadata": {},
   "outputs": [
    {
     "data": {
      "text/html": [
       "<div>\n",
       "<style scoped>\n",
       "    .dataframe tbody tr th:only-of-type {\n",
       "        vertical-align: middle;\n",
       "    }\n",
       "\n",
       "    .dataframe tbody tr th {\n",
       "        vertical-align: top;\n",
       "    }\n",
       "\n",
       "    .dataframe thead th {\n",
       "        text-align: right;\n",
       "    }\n",
       "</style>\n",
       "<table border=\"1\" class=\"dataframe\">\n",
       "  <thead>\n",
       "    <tr style=\"text-align: right;\">\n",
       "      <th></th>\n",
       "      <th>appears_count</th>\n",
       "      <th>length</th>\n",
       "      <th>kata_count</th>\n",
       "      <th>kata_len_ratio</th>\n",
       "    </tr>\n",
       "  </thead>\n",
       "  <tbody>\n",
       "    <tr>\n",
       "      <td>count</td>\n",
       "      <td>197.000000</td>\n",
       "      <td>197.000000</td>\n",
       "      <td>197.000000</td>\n",
       "      <td>197.000000</td>\n",
       "    </tr>\n",
       "    <tr>\n",
       "      <td>mean</td>\n",
       "      <td>1.497462</td>\n",
       "      <td>12055.725888</td>\n",
       "      <td>147.573604</td>\n",
       "      <td>0.012494</td>\n",
       "    </tr>\n",
       "    <tr>\n",
       "      <td>std</td>\n",
       "      <td>1.534050</td>\n",
       "      <td>14839.251277</td>\n",
       "      <td>190.073028</td>\n",
       "      <td>0.006870</td>\n",
       "    </tr>\n",
       "    <tr>\n",
       "      <td>min</td>\n",
       "      <td>1.000000</td>\n",
       "      <td>458.000000</td>\n",
       "      <td>4.000000</td>\n",
       "      <td>0.001425</td>\n",
       "    </tr>\n",
       "    <tr>\n",
       "      <td>25%</td>\n",
       "      <td>1.000000</td>\n",
       "      <td>5683.000000</td>\n",
       "      <td>52.000000</td>\n",
       "      <td>0.007726</td>\n",
       "    </tr>\n",
       "    <tr>\n",
       "      <td>50%</td>\n",
       "      <td>1.000000</td>\n",
       "      <td>8206.000000</td>\n",
       "      <td>91.000000</td>\n",
       "      <td>0.011653</td>\n",
       "    </tr>\n",
       "    <tr>\n",
       "      <td>75%</td>\n",
       "      <td>1.000000</td>\n",
       "      <td>12992.000000</td>\n",
       "      <td>157.000000</td>\n",
       "      <td>0.015037</td>\n",
       "    </tr>\n",
       "    <tr>\n",
       "      <td>max</td>\n",
       "      <td>14.000000</td>\n",
       "      <td>133395.000000</td>\n",
       "      <td>1556.000000</td>\n",
       "      <td>0.040199</td>\n",
       "    </tr>\n",
       "  </tbody>\n",
       "</table>\n",
       "</div>"
      ],
      "text/plain": [
       "       appears_count         length   kata_count  kata_len_ratio\n",
       "count     197.000000     197.000000   197.000000      197.000000\n",
       "mean        1.497462   12055.725888   147.573604        0.012494\n",
       "std         1.534050   14839.251277   190.073028        0.006870\n",
       "min         1.000000     458.000000     4.000000        0.001425\n",
       "25%         1.000000    5683.000000    52.000000        0.007726\n",
       "50%         1.000000    8206.000000    91.000000        0.011653\n",
       "75%         1.000000   12992.000000   157.000000        0.015037\n",
       "max        14.000000  133395.000000  1556.000000        0.040199"
      ]
     },
     "execution_count": 87,
     "metadata": {},
     "output_type": "execute_result"
    }
   ],
   "source": [
    "bypar.describe()"
   ]
  },
  {
   "cell_type": "markdown",
   "metadata": {},
   "source": [
    "Let's look at the age groups of the smallest and largest katakana to age ratios:"
   ]
  },
  {
   "cell_type": "code",
   "execution_count": 88,
   "metadata": {},
   "outputs": [
    {
     "data": {
      "text/plain": [
       "\"Late 20's\""
      ]
     },
     "execution_count": 88,
     "metadata": {},
     "output_type": "execute_result"
    }
   ],
   "source": [
    "bypar['age'][pd.Index(bypar['kata_len_ratio']).get_loc(bypar['kata_len_ratio'].max())]\n",
    "# by hypothesis, should be younger"
   ]
  },
  {
   "cell_type": "code",
   "execution_count": 89,
   "metadata": {},
   "outputs": [
    {
     "data": {
      "text/plain": [
       "\"Late 80's\""
      ]
     },
     "execution_count": 89,
     "metadata": {},
     "output_type": "execute_result"
    }
   ],
   "source": [
    "bypar['age'][pd.Index(bypar['kata_len_ratio']).get_loc(bypar['kata_len_ratio'].min())]\n",
    "# by hypothesis, should be older"
   ]
  },
  {
   "cell_type": "markdown",
   "metadata": {},
   "source": [
    "Neat, we're getting somewhere. These results look promising, but we don't know what's between them. For the sake of making this easier and because I wanted to do this anyway, I'm going to put the participants into categories based on the *decade* of age they're in. This is to account for the person whose age is just \"50s\" with no late/early, and it'll also be less columns to look at later. "
   ]
  },
  {
   "cell_type": "code",
   "execution_count": 90,
   "metadata": {},
   "outputs": [
    {
     "name": "stderr",
     "output_type": "stream",
     "text": [
      "C:\\Users\\lindsey rojtas\\Anaconda3\\lib\\site-packages\\ipykernel_launcher.py:6: SettingWithCopyWarning: \n",
      "A value is trying to be set on a copy of a slice from a DataFrame\n",
      "\n",
      "See the caveats in the documentation: http://pandas.pydata.org/pandas-docs/stable/user_guide/indexing.html#returning-a-view-versus-a-copy\n",
      "  \n"
     ]
    }
   ],
   "source": [
    "bypar['age_group'] = None\n",
    "for i in range(len(bypar)):\n",
    "    if bypar['age'][i] == \"Early teens\" or bypar['age'][i] == \"Late teens\":\n",
    "        bypar['age_group'][i] = \"Teens\"\n",
    "    elif bypar['age'][i] == \"Early 20s\" or bypar['age'][i] == \"Late 20's\":\n",
    "        bypar['age_group'][i] = \"Twenties\"\n",
    "    elif bypar['age'][i] == \"Early 30s\" or bypar['age'][i] == \"Late 30's\":\n",
    "        bypar['age_group'][i] = \"Thirties\"\n",
    "    elif bypar['age'][i] == \"Early 40's\" or bypar['age'][i] == \"Late 40's\":\n",
    "        bypar['age_group'][i] = \"Forties\"\n",
    "    elif bypar['age'][i] == \"Early 50's\" or bypar['age'][i] == \"Late 50's\" or bypar['age'][i] == \"50s\":\n",
    "        bypar['age_group'][i] = \"Fifties\"\n",
    "    elif bypar['age'][i] == \"Early 60's\" or bypar['age'][i] == \"Late 60's\":\n",
    "        bypar['age_group'][i] = \"Sixties\"\n",
    "    elif bypar['age'][i] == \"Late 70's\":\n",
    "        bypar['age_group'][i] = \"Seventies\"\n",
    "    else:\n",
    "        bypar['age_group'][i] = \"Eighties to Nineties\""
   ]
  },
  {
   "cell_type": "code",
   "execution_count": 91,
   "metadata": {},
   "outputs": [],
   "source": [
    "bypar['age_group'] = pd.Categorical(bypar['age_group'], [\"Teens\", \"Twenties\", \"Thirties\", \"Forties\", \"Fifties\", \"Sixties\", \"Seventies\", \"Eighties to Nineties\"])"
   ]
  },
  {
   "cell_type": "code",
   "execution_count": 92,
   "metadata": {},
   "outputs": [
    {
     "data": {
      "text/plain": [
       "<seaborn.axisgrid.FacetGrid at 0x1d8cdb8bd48>"
      ]
     },
     "execution_count": 92,
     "metadata": {},
     "output_type": "execute_result"
    },
    {
     "data": {
      "image/png": "[encoded data removed]",
      "text/plain": [
       "<Figure size 1152x576 with 1 Axes>"
      ]
     },
     "metadata": {
      "needs_background": "light"
     },
     "output_type": "display_data"
    }
   ],
   "source": [
    "sns.catplot(x='age_group', y='kata_len_ratio', kind='box', data=bypar, height=8, aspect=2, palette=\"husl\")"
   ]
  },
  {
   "cell_type": "code",
   "execution_count": 93,
   "metadata": {},
   "outputs": [
    {
     "data": {
      "text/plain": [
       "<seaborn.axisgrid.FacetGrid at 0x1d8cdfd0f88>"
      ]
     },
     "execution_count": 93,
     "metadata": {},
     "output_type": "execute_result"
    },
    {
     "data": {
      "image/png": "[encoded data removed]",
      "text/plain": [
       "<Figure size 1152x576 with 1 Axes>"
      ]
     },
     "metadata": {
      "needs_background": "light"
     },
     "output_type": "display_data"
    }
   ],
   "source": [
    "sns.catplot(x='age_group', y='kata_len_ratio', kind='swarm', data=bypar, height=8, aspect=2, palette=\"husl\")"
   ]
  },
  {
   "cell_type": "code",
   "execution_count": null,
   "metadata": {},
   "outputs": [],
   "source": []
  },
  {
   "cell_type": "code",
   "execution_count": null,
   "metadata": {},
   "outputs": [],
   "source": []
  }
 ],
 "metadata": {
  "kernelspec": {
   "display_name": "Python 3",
   "language": "python",
   "name": "python3"
  },
  "language_info": {
   "codemirror_mode": {
    "name": "ipython",
    "version": 3
   },
   "file_extension": ".py",
   "mimetype": "text/x-python",
   "name": "python",
   "nbconvert_exporter": "python",
   "pygments_lexer": "ipython3",
   "version": "3.7.4"
  }
 },
 "nbformat": 4,
 "nbformat_minor": 2
}
