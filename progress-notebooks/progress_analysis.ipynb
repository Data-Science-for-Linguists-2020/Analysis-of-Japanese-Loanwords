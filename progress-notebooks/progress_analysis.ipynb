{
 "cells": [
  {
   "cell_type": "markdown",
   "metadata": {},
   "source": [
    "# Term Project Progress Notebook - Manipulation and Analysis (NEW CONTINUING)\n",
    "\n",
    "- Lindsey Rojtas\n",
    "- LING1340\n",
    "- ler75@pitt.edu\n",
    "\n",
    "Welcome to the second Notebook! It should be noted that this is a **continuation** of `progress_data`! My progress report 3 starts there and will end here. "
   ]
  },
  {
   "cell_type": "markdown",
   "metadata": {},
   "source": [
    "## PROGRESS REPORT 3 CONTINUED"
   ]
  },
  {
   "cell_type": "markdown",
   "metadata": {},
   "source": [
    "Before anything else, we should load in those pickle files. "
   ]
  },
  {
   "cell_type": "code",
   "execution_count": 1,
   "metadata": {},
   "outputs": [],
   "source": [
    "import pandas as pd"
   ]
  },
  {
   "cell_type": "code",
   "execution_count": 2,
   "metadata": {},
   "outputs": [],
   "source": [
    "byfile = pd.read_pickle('../privdata/byfile_df.pkl')\n",
    "bypar = pd.read_pickle('../privdata/byparticipant_df.pkl')\n",
    "wordlist = pd.read_pickle('../privdata/wordlist_df.pkl')"
   ]
  },
  {
   "cell_type": "code",
   "execution_count": 3,
   "metadata": {},
   "outputs": [
    {
     "data": {
      "text/html": [
       "<div>\n",
       "<style scoped>\n",
       "    .dataframe tbody tr th:only-of-type {\n",
       "        vertical-align: middle;\n",
       "    }\n",
       "\n",
       "    .dataframe tbody tr th {\n",
       "        vertical-align: top;\n",
       "    }\n",
       "\n",
       "    .dataframe thead th {\n",
       "        text-align: right;\n",
       "    }\n",
       "</style>\n",
       "<table border=\"1\" class=\"dataframe\">\n",
       "  <thead>\n",
       "    <tr style=\"text-align: right;\">\n",
       "      <th></th>\n",
       "      <th>file</th>\n",
       "      <th>participants</th>\n",
       "      <th>content</th>\n",
       "    </tr>\n",
       "  </thead>\n",
       "  <tbody>\n",
       "    <tr>\n",
       "      <td>0</td>\n",
       "      <td>data001.txt</td>\n",
       "      <td>[F107, F023, M023, F128]</td>\n",
       "      <td>[F107：＊＊＊の町というのはちいちゃくって、城壁がこう町全体をぐるっと回ってて、それが城...</td>\n",
       "    </tr>\n",
       "    <tr>\n",
       "      <td>1</td>\n",
       "      <td>data002.txt</td>\n",
       "      <td>[F107, F023, F128]</td>\n",
       "      <td>[F107：今度はーイギリスにもアメリカと同様のテロが起こるだろうって言ったんだってよ。, ...</td>\n",
       "    </tr>\n",
       "    <tr>\n",
       "      <td>2</td>\n",
       "      <td>data003.txt</td>\n",
       "      <td>[F033, F056]</td>\n",
       "      <td>[F033：倒れちゃう。, F056：いきなり倒れた。, F033：どうしよう。あっ、この間...</td>\n",
       "    </tr>\n",
       "    <tr>\n",
       "      <td>3</td>\n",
       "      <td>data004.txt</td>\n",
       "      <td>[M018, F128]</td>\n",
       "      <td>[F128：いや、別にいいよ。ローソンでいいやろ。ちょっと倒していい、これ。どうよ、調子は。...</td>\n",
       "    </tr>\n",
       "    <tr>\n",
       "      <td>4</td>\n",
       "      <td>data005.txt</td>\n",
       "      <td>[M023, F128, F116, M026]</td>\n",
       "      <td>[F128：来てたときによく貸してもらったやつだ。, M023：そう、そんな感じのとこ。, ...</td>\n",
       "    </tr>\n",
       "  </tbody>\n",
       "</table>\n",
       "</div>"
      ],
      "text/plain": [
       "          file              participants  \\\n",
       "0  data001.txt  [F107, F023, M023, F128]   \n",
       "1  data002.txt        [F107, F023, F128]   \n",
       "2  data003.txt              [F033, F056]   \n",
       "3  data004.txt              [M018, F128]   \n",
       "4  data005.txt  [M023, F128, F116, M026]   \n",
       "\n",
       "                                             content  \n",
       "0  [F107：＊＊＊の町というのはちいちゃくって、城壁がこう町全体をぐるっと回ってて、それが城...  \n",
       "1  [F107：今度はーイギリスにもアメリカと同様のテロが起こるだろうって言ったんだってよ。, ...  \n",
       "2  [F033：倒れちゃう。, F056：いきなり倒れた。, F033：どうしよう。あっ、この間...  \n",
       "3  [F128：いや、別にいいよ。ローソンでいいやろ。ちょっと倒していい、これ。どうよ、調子は。...  \n",
       "4  [F128：来てたときによく貸してもらったやつだ。, M023：そう、そんな感じのとこ。, ...  "
      ]
     },
     "execution_count": 3,
     "metadata": {},
     "output_type": "execute_result"
    }
   ],
   "source": [
    "byfile.head()"
   ]
  },
  {
   "cell_type": "code",
   "execution_count": 4,
   "metadata": {},
   "outputs": [
    {
     "data": {
      "text/html": [
       "<div>\n",
       "<style scoped>\n",
       "    .dataframe tbody tr th:only-of-type {\n",
       "        vertical-align: middle;\n",
       "    }\n",
       "\n",
       "    .dataframe tbody tr th {\n",
       "        vertical-align: top;\n",
       "    }\n",
       "\n",
       "    .dataframe thead th {\n",
       "        text-align: right;\n",
       "    }\n",
       "</style>\n",
       "<table border=\"1\" class=\"dataframe\">\n",
       "  <thead>\n",
       "    <tr style=\"text-align: right;\">\n",
       "      <th></th>\n",
       "      <th>participant</th>\n",
       "      <th>age</th>\n",
       "      <th>appears_count</th>\n",
       "      <th>appears_in</th>\n",
       "      <th>content</th>\n",
       "    </tr>\n",
       "  </thead>\n",
       "  <tbody>\n",
       "    <tr>\n",
       "      <td>0</td>\n",
       "      <td>F001</td>\n",
       "      <td>Early 20s</td>\n",
       "      <td>5</td>\n",
       "      <td>[data105.txt, data086.txt, data076.txt, data07...</td>\n",
       "      <td>うーん、わかんない。そういうこと言わないで。うるさいな。うるさい。うるさいって言ってるの。う...</td>\n",
       "    </tr>\n",
       "    <tr>\n",
       "      <td>1</td>\n",
       "      <td>F002</td>\n",
       "      <td>Late 60's</td>\n",
       "      <td>3</td>\n",
       "      <td>[data033.txt, data032.txt, data031.txt]</td>\n",
       "      <td>２７歳から現在まで東京都に居住。南仏へいらしたそうだけど、（うん）どうでしたか。みんな、太っ...</td>\n",
       "    </tr>\n",
       "    <tr>\n",
       "      <td>2</td>\n",
       "      <td>F003</td>\n",
       "      <td>Late 80's</td>\n",
       "      <td>1</td>\n",
       "      <td>[data129.txt]</td>\n",
       "      <td>そうねえ。＜笑い＞先生はね、師範卒業したのがねえ、１９歳だったのよ。だーから、若い先生でね。...</td>\n",
       "    </tr>\n",
       "    <tr>\n",
       "      <td>3</td>\n",
       "      <td>F004</td>\n",
       "      <td>Late 20's</td>\n",
       "      <td>14</td>\n",
       "      <td>[data096.txt, data094.txt, data092.txt, data08...</td>\n",
       "      <td>うん、まあね。はい、もう始まってますからね。よろしくね。ちょっとちょっと、ちゃんとさ、つなぐ...</td>\n",
       "    </tr>\n",
       "    <tr>\n",
       "      <td>4</td>\n",
       "      <td>F005</td>\n",
       "      <td>Late 20's</td>\n",
       "      <td>3</td>\n",
       "      <td>[data052.txt, data023.txt, data015.txt]</td>\n",
       "      <td>はーい。いや、F034さんってー、やっぱりー、ハンバーガーとか好きですよねー。＊はなしを＊。...</td>\n",
       "    </tr>\n",
       "  </tbody>\n",
       "</table>\n",
       "</div>"
      ],
      "text/plain": [
       "  participant        age  appears_count  \\\n",
       "0        F001  Early 20s              5   \n",
       "1        F002  Late 60's              3   \n",
       "2        F003  Late 80's              1   \n",
       "3        F004  Late 20's             14   \n",
       "4        F005  Late 20's              3   \n",
       "\n",
       "                                          appears_in  \\\n",
       "0  [data105.txt, data086.txt, data076.txt, data07...   \n",
       "1            [data033.txt, data032.txt, data031.txt]   \n",
       "2                                      [data129.txt]   \n",
       "3  [data096.txt, data094.txt, data092.txt, data08...   \n",
       "4            [data052.txt, data023.txt, data015.txt]   \n",
       "\n",
       "                                             content  \n",
       "0  うーん、わかんない。そういうこと言わないで。うるさいな。うるさい。うるさいって言ってるの。う...  \n",
       "1  ２７歳から現在まで東京都に居住。南仏へいらしたそうだけど、（うん）どうでしたか。みんな、太っ...  \n",
       "2  そうねえ。＜笑い＞先生はね、師範卒業したのがねえ、１９歳だったのよ。だーから、若い先生でね。...  \n",
       "3  うん、まあね。はい、もう始まってますからね。よろしくね。ちょっとちょっと、ちゃんとさ、つなぐ...  \n",
       "4  はーい。いや、F034さんってー、やっぱりー、ハンバーガーとか好きですよねー。＊はなしを＊。...  "
      ]
     },
     "execution_count": 4,
     "metadata": {},
     "output_type": "execute_result"
    }
   ],
   "source": [
    "bypar.head()"
   ]
  },
  {
   "cell_type": "code",
   "execution_count": 5,
   "metadata": {},
   "outputs": [
    {
     "data": {
      "text/html": [
       "<div>\n",
       "<style scoped>\n",
       "    .dataframe tbody tr th:only-of-type {\n",
       "        vertical-align: middle;\n",
       "    }\n",
       "\n",
       "    .dataframe tbody tr th {\n",
       "        vertical-align: top;\n",
       "    }\n",
       "\n",
       "    .dataframe thead th {\n",
       "        text-align: right;\n",
       "    }\n",
       "</style>\n",
       "<table border=\"1\" class=\"dataframe\">\n",
       "  <thead>\n",
       "    <tr style=\"text-align: right;\">\n",
       "      <th></th>\n",
       "      <th>katakana</th>\n",
       "      <th>translation</th>\n",
       "      <th>frequency</th>\n",
       "    </tr>\n",
       "  </thead>\n",
       "  <tbody>\n",
       "    <tr>\n",
       "      <td>0</td>\n",
       "      <td>パーセント</td>\n",
       "      <td>percent</td>\n",
       "      <td>63392</td>\n",
       "    </tr>\n",
       "    <tr>\n",
       "      <td>1</td>\n",
       "      <td>アメリカ</td>\n",
       "      <td>America</td>\n",
       "      <td>28243</td>\n",
       "    </tr>\n",
       "    <tr>\n",
       "      <td>2</td>\n",
       "      <td>ページ</td>\n",
       "      <td>page</td>\n",
       "      <td>24642</td>\n",
       "    </tr>\n",
       "    <tr>\n",
       "      <td>3</td>\n",
       "      <td>センター</td>\n",
       "      <td>center</td>\n",
       "      <td>20664</td>\n",
       "    </tr>\n",
       "    <tr>\n",
       "      <td>4</td>\n",
       "      <td>サービス</td>\n",
       "      <td>service</td>\n",
       "      <td>16630</td>\n",
       "    </tr>\n",
       "  </tbody>\n",
       "</table>\n",
       "</div>"
      ],
      "text/plain": [
       "  katakana translation  frequency\n",
       "0    パーセント     percent      63392\n",
       "1     アメリカ     America      28243\n",
       "2      ページ        page      24642\n",
       "3     センター      center      20664\n",
       "4     サービス     service      16630"
      ]
     },
     "execution_count": 5,
     "metadata": {},
     "output_type": "execute_result"
    }
   ],
   "source": [
    "wordlist.head()"
   ]
  },
  {
   "cell_type": "markdown",
   "metadata": {},
   "source": [
    "### Exploratory Analysis and Developing Questions\n",
    "So, let's get some structure in here. What I'm gonna do next is check the length of everything as well as check for some potential issues that will come about in our analysis. "
   ]
  },
  {
   "cell_type": "code",
   "execution_count": 6,
   "metadata": {},
   "outputs": [
    {
     "data": {
      "text/plain": [
       "5192"
      ]
     },
     "execution_count": 6,
     "metadata": {},
     "output_type": "execute_result"
    }
   ],
   "source": [
    "len(wordlist)"
   ]
  },
  {
   "cell_type": "markdown",
   "metadata": {},
   "source": [
    "So there are around 5,000 entries in our list of Katakana words.... "
   ]
  },
  {
   "cell_type": "code",
   "execution_count": 7,
   "metadata": {},
   "outputs": [
    {
     "data": {
      "text/plain": [
       "197"
      ]
     },
     "execution_count": 7,
     "metadata": {},
     "output_type": "execute_result"
    }
   ],
   "source": [
    "len(bypar)"
   ]
  },
  {
   "cell_type": "markdown",
   "metadata": {},
   "source": [
    "... 197 participants... "
   ]
  },
  {
   "cell_type": "code",
   "execution_count": 8,
   "metadata": {},
   "outputs": [
    {
     "data": {
      "text/plain": [
       "129"
      ]
     },
     "execution_count": 8,
     "metadata": {},
     "output_type": "execute_result"
    }
   ],
   "source": [
    "len(byfile)"
   ]
  },
  {
   "cell_type": "markdown",
   "metadata": {},
   "source": [
    "... who spoke in 129 files. It's pretty easy to see that not everyone spoke in the same amount of files for the same amount of time, so we should examine the data for potential outliers. One thing I can think of off the top of my head is how many times a certain participant was present in the conversations. We can see that F004 was present in 14 different files, so obviously she will have more conversation data than anyone else, unless her contributions in many of the files were marginal. Let's take a peek at some value counts:"
   ]
  },
  {
   "cell_type": "code",
   "execution_count": 9,
   "metadata": {},
   "outputs": [
    {
     "data": {
      "text/plain": [
       "1     161\n",
       "2      16\n",
       "3       7\n",
       "5       4\n",
       "4       4\n",
       "7       2\n",
       "14      1\n",
       "11      1\n",
       "6       1\n",
       "Name: appears_count, dtype: int64"
      ]
     },
     "execution_count": 9,
     "metadata": {},
     "output_type": "execute_result"
    }
   ],
   "source": [
    "bypar['appears_count'].value_counts()"
   ]
  },
  {
   "cell_type": "markdown",
   "metadata": {},
   "source": [
    "Ah, so we're seeing a problem here. The majority of the participants only appeared in one file, but there are quite a few outliers here. I could just exclude them from my analysis from the get-go, but we should probably see just how long the strings of text are for each participant. "
   ]
  },
  {
   "cell_type": "code",
   "execution_count": 10,
   "metadata": {},
   "outputs": [
    {
     "name": "stderr",
     "output_type": "stream",
     "text": [
      "C:\\Users\\lindsey rojtas\\Anaconda3\\lib\\site-packages\\ipykernel_launcher.py:3: SettingWithCopyWarning: \n",
      "A value is trying to be set on a copy of a slice from a DataFrame\n",
      "\n",
      "See the caveats in the documentation: http://pandas.pydata.org/pandas-docs/stable/user_guide/indexing.html#returning-a-view-versus-a-copy\n",
      "  This is separate from the ipykernel package so we can avoid doing imports until\n"
     ]
    }
   ],
   "source": [
    "bypar['length'] = 0\n",
    "for i in range(len(bypar)):\n",
    "    bypar['length'][i] = len(bypar['content'][i])"
   ]
  },
  {
   "cell_type": "code",
   "execution_count": 11,
   "metadata": {},
   "outputs": [
    {
     "data": {
      "text/html": [
       "<div>\n",
       "<style scoped>\n",
       "    .dataframe tbody tr th:only-of-type {\n",
       "        vertical-align: middle;\n",
       "    }\n",
       "\n",
       "    .dataframe tbody tr th {\n",
       "        vertical-align: top;\n",
       "    }\n",
       "\n",
       "    .dataframe thead th {\n",
       "        text-align: right;\n",
       "    }\n",
       "</style>\n",
       "<table border=\"1\" class=\"dataframe\">\n",
       "  <thead>\n",
       "    <tr style=\"text-align: right;\">\n",
       "      <th></th>\n",
       "      <th>participant</th>\n",
       "      <th>age</th>\n",
       "      <th>appears_count</th>\n",
       "      <th>appears_in</th>\n",
       "      <th>content</th>\n",
       "      <th>length</th>\n",
       "    </tr>\n",
       "  </thead>\n",
       "  <tbody>\n",
       "    <tr>\n",
       "      <td>0</td>\n",
       "      <td>F001</td>\n",
       "      <td>Early 20s</td>\n",
       "      <td>5</td>\n",
       "      <td>[data105.txt, data086.txt, data076.txt, data07...</td>\n",
       "      <td>うーん、わかんない。そういうこと言わないで。うるさいな。うるさい。うるさいって言ってるの。う...</td>\n",
       "      <td>36989</td>\n",
       "    </tr>\n",
       "    <tr>\n",
       "      <td>1</td>\n",
       "      <td>F002</td>\n",
       "      <td>Late 60's</td>\n",
       "      <td>3</td>\n",
       "      <td>[data033.txt, data032.txt, data031.txt]</td>\n",
       "      <td>２７歳から現在まで東京都に居住。南仏へいらしたそうだけど、（うん）どうでしたか。みんな、太っ...</td>\n",
       "      <td>27372</td>\n",
       "    </tr>\n",
       "    <tr>\n",
       "      <td>2</td>\n",
       "      <td>F003</td>\n",
       "      <td>Late 80's</td>\n",
       "      <td>1</td>\n",
       "      <td>[data129.txt]</td>\n",
       "      <td>そうねえ。＜笑い＞先生はね、師範卒業したのがねえ、１９歳だったのよ。だーから、若い先生でね。...</td>\n",
       "      <td>5615</td>\n",
       "    </tr>\n",
       "    <tr>\n",
       "      <td>3</td>\n",
       "      <td>F004</td>\n",
       "      <td>Late 20's</td>\n",
       "      <td>14</td>\n",
       "      <td>[data096.txt, data094.txt, data092.txt, data08...</td>\n",
       "      <td>うん、まあね。はい、もう始まってますからね。よろしくね。ちょっとちょっと、ちゃんとさ、つなぐ...</td>\n",
       "      <td>133395</td>\n",
       "    </tr>\n",
       "    <tr>\n",
       "      <td>4</td>\n",
       "      <td>F005</td>\n",
       "      <td>Late 20's</td>\n",
       "      <td>3</td>\n",
       "      <td>[data052.txt, data023.txt, data015.txt]</td>\n",
       "      <td>はーい。いや、F034さんってー、やっぱりー、ハンバーガーとか好きですよねー。＊はなしを＊。...</td>\n",
       "      <td>24084</td>\n",
       "    </tr>\n",
       "  </tbody>\n",
       "</table>\n",
       "</div>"
      ],
      "text/plain": [
       "  participant        age  appears_count  \\\n",
       "0        F001  Early 20s              5   \n",
       "1        F002  Late 60's              3   \n",
       "2        F003  Late 80's              1   \n",
       "3        F004  Late 20's             14   \n",
       "4        F005  Late 20's              3   \n",
       "\n",
       "                                          appears_in  \\\n",
       "0  [data105.txt, data086.txt, data076.txt, data07...   \n",
       "1            [data033.txt, data032.txt, data031.txt]   \n",
       "2                                      [data129.txt]   \n",
       "3  [data096.txt, data094.txt, data092.txt, data08...   \n",
       "4            [data052.txt, data023.txt, data015.txt]   \n",
       "\n",
       "                                             content  length  \n",
       "0  うーん、わかんない。そういうこと言わないで。うるさいな。うるさい。うるさいって言ってるの。う...   36989  \n",
       "1  ２７歳から現在まで東京都に居住。南仏へいらしたそうだけど、（うん）どうでしたか。みんな、太っ...   27372  \n",
       "2  そうねえ。＜笑い＞先生はね、師範卒業したのがねえ、１９歳だったのよ。だーから、若い先生でね。...    5615  \n",
       "3  うん、まあね。はい、もう始まってますからね。よろしくね。ちょっとちょっと、ちゃんとさ、つなぐ...  133395  \n",
       "4  はーい。いや、F034さんってー、やっぱりー、ハンバーガーとか好きですよねー。＊はなしを＊。...   24084  "
      ]
     },
     "execution_count": 11,
     "metadata": {},
     "output_type": "execute_result"
    }
   ],
   "source": [
    "bypar.head()"
   ]
  },
  {
   "cell_type": "code",
   "execution_count": 12,
   "metadata": {},
   "outputs": [
    {
     "data": {
      "text/plain": [
       "count       197.000000\n",
       "mean      12055.725888\n",
       "std       14839.251277\n",
       "min         458.000000\n",
       "25%        5683.000000\n",
       "50%        8206.000000\n",
       "75%       12992.000000\n",
       "max      133395.000000\n",
       "Name: length, dtype: float64"
      ]
     },
     "execution_count": 12,
     "metadata": {},
     "output_type": "execute_result"
    }
   ],
   "source": [
    "bypar['length'].describe()"
   ]
  },
  {
   "cell_type": "markdown",
   "metadata": {},
   "source": [
    "So there are some wildly different levels of contribution here. We see that F004 has way more contributions than even the 75th percentile - this is not surprising, but it is something we really need to take into account if we find that she used a ton of Katakana. A way we could approach this is take a ratio of Katakana characters to overall characters. This, though, could be an issue because onomatopoeia words are also written in Katakana. It may be something worth trying, however. Another option I could try is just dropping anyone that participated in one or two conversations. I might try both (or more things!) in an attempt to see how the results differ -- maybe younger people use more onomatopoeia than older people too!"
   ]
  },
  {
   "cell_type": "markdown",
   "metadata": {},
   "source": [
    "Now, let's test out some methods of gathering up how often these words are used in these files. Below is a line of code I used to see on what level in a dataframe a word would be detected:"
   ]
  },
  {
   "cell_type": "code",
   "execution_count": 13,
   "metadata": {},
   "outputs": [
    {
     "data": {
      "text/plain": [
       "True"
      ]
     },
     "execution_count": 13,
     "metadata": {},
     "output_type": "execute_result"
    }
   ],
   "source": [
    "word = 'アメリカ' # \"amerika\" = america\n",
    "word in byfile['content'][1][0]"
   ]
  },
  {
   "cell_type": "markdown",
   "metadata": {},
   "source": [
    "We can see here that it's probably a good thing that we kept everyone's utterances in one big long string, because that eliminates one more level of a data hierarchy to go into.  "
   ]
  },
  {
   "cell_type": "code",
   "execution_count": 14,
   "metadata": {},
   "outputs": [
    {
     "name": "stdout",
     "output_type": "stream",
     "text": [
      "69\n"
     ]
    }
   ],
   "source": [
    "ct = 0\n",
    "for i in range(len(bypar)):\n",
    "    if word in bypar['content'][i]:\n",
    "        ct += 1\n",
    "print(ct)"
   ]
  },
  {
   "cell_type": "markdown",
   "metadata": {},
   "source": [
    "So this means that the word for America appears 69 times in this dataset. Let's try another common word:"
   ]
  },
  {
   "cell_type": "code",
   "execution_count": 15,
   "metadata": {},
   "outputs": [
    {
     "name": "stdout",
     "output_type": "stream",
     "text": [
      "3\n"
     ]
    }
   ],
   "source": [
    "word = \"パーセント\" # paasento = percent\n",
    "ct = 0\n",
    "for i in range(len(bypar)):\n",
    "    if word in bypar['content'][i]:\n",
    "        ct += 1\n",
    "print(ct)"
   ]
  },
  {
   "cell_type": "code",
   "execution_count": 16,
   "metadata": {},
   "outputs": [
    {
     "name": "stdout",
     "output_type": "stream",
     "text": [
      "76\n"
     ]
    }
   ],
   "source": [
    "word = \"テレビ\" # terebi = television\n",
    "ct = 0\n",
    "for i in range(len(bypar)):\n",
    "    if word in bypar['content'][i]:\n",
    "        ct += 1\n",
    "print(ct)"
   ]
  },
  {
   "cell_type": "markdown",
   "metadata": {},
   "source": [
    "So the word for percent only shows up 3 times, but the word for television shows up 76 times... this makes sense since the word \"percent\" doesn't typically appear in casual conversation but \"television\" does. It seems likely that the frequencies in `wordlist` and the frequencies as far as how often these things actually appear in conversation. We could probably save some time from further analysis if we get rid of words that don't appear at all in these conversations. Let's do that now. "
   ]
  },
  {
   "cell_type": "code",
   "execution_count": 17,
   "metadata": {},
   "outputs": [],
   "source": [
    "wordlist['conv_freq'] = ''"
   ]
  },
  {
   "cell_type": "code",
   "execution_count": 18,
   "metadata": {},
   "outputs": [
    {
     "name": "stderr",
     "output_type": "stream",
     "text": [
      "C:\\Users\\lindsey rojtas\\Anaconda3\\lib\\site-packages\\ipykernel_launcher.py:10: SettingWithCopyWarning: \n",
      "A value is trying to be set on a copy of a slice from a DataFrame\n",
      "\n",
      "See the caveats in the documentation: http://pandas.pydata.org/pandas-docs/stable/user_guide/indexing.html#returning-a-view-versus-a-copy\n",
      "  # Remove the CWD from sys.path while we load stuff.\n",
      "C:\\Users\\lindsey rojtas\\Anaconda3\\lib\\site-packages\\ipykernel_launcher.py:8: SettingWithCopyWarning: \n",
      "A value is trying to be set on a copy of a slice from a DataFrame\n",
      "\n",
      "See the caveats in the documentation: http://pandas.pydata.org/pandas-docs/stable/user_guide/indexing.html#returning-a-view-versus-a-copy\n",
      "  \n"
     ]
    }
   ],
   "source": [
    "for i in range(len(wordlist)):\n",
    "    word =  wordlist['katakana'][i]\n",
    "    ct = 0\n",
    "    for j in range(len(bypar)):\n",
    "        if word in bypar['content'][j]:\n",
    "            ct += 1\n",
    "    if ct == 0:\n",
    "        wordlist['conv_freq'][i] = None\n",
    "    else:\n",
    "        wordlist['conv_freq'][i] = ct"
   ]
  },
  {
   "cell_type": "code",
   "execution_count": 19,
   "metadata": {},
   "outputs": [
    {
     "data": {
      "text/html": [
       "<div>\n",
       "<style scoped>\n",
       "    .dataframe tbody tr th:only-of-type {\n",
       "        vertical-align: middle;\n",
       "    }\n",
       "\n",
       "    .dataframe tbody tr th {\n",
       "        vertical-align: top;\n",
       "    }\n",
       "\n",
       "    .dataframe thead th {\n",
       "        text-align: right;\n",
       "    }\n",
       "</style>\n",
       "<table border=\"1\" class=\"dataframe\">\n",
       "  <thead>\n",
       "    <tr style=\"text-align: right;\">\n",
       "      <th></th>\n",
       "      <th>katakana</th>\n",
       "      <th>translation</th>\n",
       "      <th>frequency</th>\n",
       "      <th>conv_freq</th>\n",
       "    </tr>\n",
       "  </thead>\n",
       "  <tbody>\n",
       "    <tr>\n",
       "      <td>0</td>\n",
       "      <td>パーセント</td>\n",
       "      <td>percent</td>\n",
       "      <td>63392</td>\n",
       "      <td>3</td>\n",
       "    </tr>\n",
       "    <tr>\n",
       "      <td>1</td>\n",
       "      <td>アメリカ</td>\n",
       "      <td>America</td>\n",
       "      <td>28243</td>\n",
       "      <td>69</td>\n",
       "    </tr>\n",
       "    <tr>\n",
       "      <td>2</td>\n",
       "      <td>ページ</td>\n",
       "      <td>page</td>\n",
       "      <td>24642</td>\n",
       "      <td>27</td>\n",
       "    </tr>\n",
       "    <tr>\n",
       "      <td>3</td>\n",
       "      <td>センター</td>\n",
       "      <td>center</td>\n",
       "      <td>20664</td>\n",
       "      <td>33</td>\n",
       "    </tr>\n",
       "    <tr>\n",
       "      <td>4</td>\n",
       "      <td>サービス</td>\n",
       "      <td>service</td>\n",
       "      <td>16630</td>\n",
       "      <td>21</td>\n",
       "    </tr>\n",
       "    <tr>\n",
       "      <td>5</td>\n",
       "      <td>システム</td>\n",
       "      <td>system</td>\n",
       "      <td>16458</td>\n",
       "      <td>17</td>\n",
       "    </tr>\n",
       "    <tr>\n",
       "      <td>6</td>\n",
       "      <td>メートル</td>\n",
       "      <td>metre</td>\n",
       "      <td>15960</td>\n",
       "      <td>17</td>\n",
       "    </tr>\n",
       "    <tr>\n",
       "      <td>7</td>\n",
       "      <td>テレビ</td>\n",
       "      <td>television</td>\n",
       "      <td>15644</td>\n",
       "      <td>76</td>\n",
       "    </tr>\n",
       "    <tr>\n",
       "      <td>8</td>\n",
       "      <td>メール</td>\n",
       "      <td>mail</td>\n",
       "      <td>15589</td>\n",
       "      <td>72</td>\n",
       "    </tr>\n",
       "    <tr>\n",
       "      <td>9</td>\n",
       "      <td>データ</td>\n",
       "      <td>data</td>\n",
       "      <td>13210</td>\n",
       "      <td>28</td>\n",
       "    </tr>\n",
       "    <tr>\n",
       "      <td>10</td>\n",
       "      <td>フランス</td>\n",
       "      <td>France</td>\n",
       "      <td>10957</td>\n",
       "      <td>54</td>\n",
       "    </tr>\n",
       "    <tr>\n",
       "      <td>11</td>\n",
       "      <td>ポイント</td>\n",
       "      <td>point</td>\n",
       "      <td>10919</td>\n",
       "      <td>15</td>\n",
       "    </tr>\n",
       "    <tr>\n",
       "      <td>12</td>\n",
       "      <td>ホーム</td>\n",
       "      <td>home</td>\n",
       "      <td>10790</td>\n",
       "      <td>38</td>\n",
       "    </tr>\n",
       "    <tr>\n",
       "      <td>13</td>\n",
       "      <td>ホテル</td>\n",
       "      <td>hotel</td>\n",
       "      <td>10503</td>\n",
       "      <td>45</td>\n",
       "    </tr>\n",
       "    <tr>\n",
       "      <td>14</td>\n",
       "      <td>ブログ</td>\n",
       "      <td>blog</td>\n",
       "      <td>10205</td>\n",
       "      <td>None</td>\n",
       "    </tr>\n",
       "  </tbody>\n",
       "</table>\n",
       "</div>"
      ],
      "text/plain": [
       "   katakana translation  frequency conv_freq\n",
       "0     パーセント     percent      63392         3\n",
       "1      アメリカ     America      28243        69\n",
       "2       ページ        page      24642        27\n",
       "3      センター      center      20664        33\n",
       "4      サービス     service      16630        21\n",
       "5      システム      system      16458        17\n",
       "6      メートル       metre      15960        17\n",
       "7       テレビ  television      15644        76\n",
       "8       メール        mail      15589        72\n",
       "9       データ        data      13210        28\n",
       "10     フランス      France      10957        54\n",
       "11     ポイント       point      10919        15\n",
       "12      ホーム        home      10790        38\n",
       "13      ホテル       hotel      10503        45\n",
       "14      ブログ        blog      10205      None"
      ]
     },
     "execution_count": 19,
     "metadata": {},
     "output_type": "execute_result"
    }
   ],
   "source": [
    "wordlist.head(15)"
   ]
  },
  {
   "cell_type": "markdown",
   "metadata": {},
   "source": [
    "Again, the frequency column doesn't reflect how frequently these words appear in these conversation files. Let's drop words we don't see. "
   ]
  },
  {
   "cell_type": "code",
   "execution_count": 20,
   "metadata": {},
   "outputs": [],
   "source": [
    "wordlist = wordlist.dropna()"
   ]
  },
  {
   "cell_type": "code",
   "execution_count": 21,
   "metadata": {},
   "outputs": [],
   "source": [
    "wordlist = wordlist.reset_index(drop=True)"
   ]
  },
  {
   "cell_type": "code",
   "execution_count": 22,
   "metadata": {},
   "outputs": [
    {
     "data": {
      "text/html": [
       "<div>\n",
       "<style scoped>\n",
       "    .dataframe tbody tr th:only-of-type {\n",
       "        vertical-align: middle;\n",
       "    }\n",
       "\n",
       "    .dataframe tbody tr th {\n",
       "        vertical-align: top;\n",
       "    }\n",
       "\n",
       "    .dataframe thead th {\n",
       "        text-align: right;\n",
       "    }\n",
       "</style>\n",
       "<table border=\"1\" class=\"dataframe\">\n",
       "  <thead>\n",
       "    <tr style=\"text-align: right;\">\n",
       "      <th></th>\n",
       "      <th>katakana</th>\n",
       "      <th>translation</th>\n",
       "      <th>frequency</th>\n",
       "      <th>conv_freq</th>\n",
       "    </tr>\n",
       "  </thead>\n",
       "  <tbody>\n",
       "    <tr>\n",
       "      <td>0</td>\n",
       "      <td>パーセント</td>\n",
       "      <td>percent</td>\n",
       "      <td>63392</td>\n",
       "      <td>3</td>\n",
       "    </tr>\n",
       "    <tr>\n",
       "      <td>1</td>\n",
       "      <td>アメリカ</td>\n",
       "      <td>America</td>\n",
       "      <td>28243</td>\n",
       "      <td>69</td>\n",
       "    </tr>\n",
       "    <tr>\n",
       "      <td>2</td>\n",
       "      <td>ページ</td>\n",
       "      <td>page</td>\n",
       "      <td>24642</td>\n",
       "      <td>27</td>\n",
       "    </tr>\n",
       "    <tr>\n",
       "      <td>3</td>\n",
       "      <td>センター</td>\n",
       "      <td>center</td>\n",
       "      <td>20664</td>\n",
       "      <td>33</td>\n",
       "    </tr>\n",
       "    <tr>\n",
       "      <td>4</td>\n",
       "      <td>サービス</td>\n",
       "      <td>service</td>\n",
       "      <td>16630</td>\n",
       "      <td>21</td>\n",
       "    </tr>\n",
       "    <tr>\n",
       "      <td>5</td>\n",
       "      <td>システム</td>\n",
       "      <td>system</td>\n",
       "      <td>16458</td>\n",
       "      <td>17</td>\n",
       "    </tr>\n",
       "    <tr>\n",
       "      <td>6</td>\n",
       "      <td>メートル</td>\n",
       "      <td>metre</td>\n",
       "      <td>15960</td>\n",
       "      <td>17</td>\n",
       "    </tr>\n",
       "    <tr>\n",
       "      <td>7</td>\n",
       "      <td>テレビ</td>\n",
       "      <td>television</td>\n",
       "      <td>15644</td>\n",
       "      <td>76</td>\n",
       "    </tr>\n",
       "    <tr>\n",
       "      <td>8</td>\n",
       "      <td>メール</td>\n",
       "      <td>mail</td>\n",
       "      <td>15589</td>\n",
       "      <td>72</td>\n",
       "    </tr>\n",
       "    <tr>\n",
       "      <td>9</td>\n",
       "      <td>データ</td>\n",
       "      <td>data</td>\n",
       "      <td>13210</td>\n",
       "      <td>28</td>\n",
       "    </tr>\n",
       "    <tr>\n",
       "      <td>10</td>\n",
       "      <td>フランス</td>\n",
       "      <td>France</td>\n",
       "      <td>10957</td>\n",
       "      <td>54</td>\n",
       "    </tr>\n",
       "    <tr>\n",
       "      <td>11</td>\n",
       "      <td>ポイント</td>\n",
       "      <td>point</td>\n",
       "      <td>10919</td>\n",
       "      <td>15</td>\n",
       "    </tr>\n",
       "    <tr>\n",
       "      <td>12</td>\n",
       "      <td>ホーム</td>\n",
       "      <td>home</td>\n",
       "      <td>10790</td>\n",
       "      <td>38</td>\n",
       "    </tr>\n",
       "    <tr>\n",
       "      <td>13</td>\n",
       "      <td>ホテル</td>\n",
       "      <td>hotel</td>\n",
       "      <td>10503</td>\n",
       "      <td>45</td>\n",
       "    </tr>\n",
       "    <tr>\n",
       "      <td>14</td>\n",
       "      <td>クリック</td>\n",
       "      <td>click</td>\n",
       "      <td>10084</td>\n",
       "      <td>3</td>\n",
       "    </tr>\n",
       "  </tbody>\n",
       "</table>\n",
       "</div>"
      ],
      "text/plain": [
       "   katakana translation  frequency conv_freq\n",
       "0     パーセント     percent      63392         3\n",
       "1      アメリカ     America      28243        69\n",
       "2       ページ        page      24642        27\n",
       "3      センター      center      20664        33\n",
       "4      サービス     service      16630        21\n",
       "5      システム      system      16458        17\n",
       "6      メートル       metre      15960        17\n",
       "7       テレビ  television      15644        76\n",
       "8       メール        mail      15589        72\n",
       "9       データ        data      13210        28\n",
       "10     フランス      France      10957        54\n",
       "11     ポイント       point      10919        15\n",
       "12      ホーム        home      10790        38\n",
       "13      ホテル       hotel      10503        45\n",
       "14     クリック       click      10084         3"
      ]
     },
     "execution_count": 22,
     "metadata": {},
     "output_type": "execute_result"
    }
   ],
   "source": [
    "wordlist.head(15)"
   ]
  },
  {
   "cell_type": "code",
   "execution_count": 23,
   "metadata": {},
   "outputs": [
    {
     "data": {
      "text/plain": [
       "2734"
      ]
     },
     "execution_count": 23,
     "metadata": {},
     "output_type": "execute_result"
    }
   ],
   "source": [
    "len(wordlist)"
   ]
  },
  {
   "cell_type": "markdown",
   "metadata": {},
   "source": [
    "We cut our amount of words in half, wow. I wonder what the most frequently used word in these conversations was:"
   ]
  },
  {
   "cell_type": "code",
   "execution_count": 24,
   "metadata": {},
   "outputs": [
    {
     "data": {
      "text/plain": [
       "193"
      ]
     },
     "execution_count": 24,
     "metadata": {},
     "output_type": "execute_result"
    }
   ],
   "source": [
    "wordlist['conv_freq'].max()"
   ]
  },
  {
   "cell_type": "code",
   "execution_count": 25,
   "metadata": {},
   "outputs": [
    {
     "data": {
      "text/plain": [
       "'la'"
      ]
     },
     "execution_count": 25,
     "metadata": {},
     "output_type": "execute_result"
    }
   ],
   "source": [
    "wordlist['translation'][pd.Index(wordlist['conv_freq']).get_loc(193)]"
   ]
  },
  {
   "cell_type": "markdown",
   "metadata": {},
   "source": [
    "So here's another issue: the word for \"la\" (ラ) is probably only so frequent because it has the potential to appear in other words. "
   ]
  },
  {
   "cell_type": "code",
   "execution_count": 26,
   "metadata": {},
   "outputs": [
    {
     "name": "stdout",
     "output_type": "stream",
     "text": [
      "フランス, クラブ, ライン, カメラ, バランス, クラス, プログラム, ガラス, ドラマ, カラー, ブランド, ボランティア, プラス, ラジオ, レストラン, トラブル, ライブ, ドライブ, プラン, トラック, ラーメン, サラダ, イスラム, イラク, グラス, ラブ, オランダ, グラフ, ラン, オーストラリア, ランキング, ドライバー, ブラック, サラリーマン, ライフ, ランド, ブラジル, ランチ, キャラクター, ライト, キャラ, イスラエル, イラスト, プラスチック, オペラ, イラン, アラブ, ラッキー, ランプ, リラックス, グランド, コラム, ラベル, ライバル, ブラシ, ランク, ラウンド, ライター, ライオン, クラシック, グラウンド, ライト, ラスト, プライド, プライバシー, エラー, ベランダ, カメラマン, フライ, ドラゴン, リストラ, ウラン, マラソン, プライベート, ブラウン, ベテラン, ラ, ライダー, ラップ, ラテン, アラビア, コーラ, ミネラル, ドライ, ポーランド, マフラー, オーケストラ, ドラム, ライス, ピラミッド, フランク, ディーラー, クーラー, フォーラム, フラワー, フラッシュ, レギュラー, テラス, ラリー, ニュージーランド, プラント, ライセンス, ブラウス, サングラス, トランク, ライフスタイル, カウンセラー, セラー, ラッシュ, トライ, スライス, ストラップ, ミラノ, プラグ, モラル, オーラ, スコットランド, ミラー, キャラメル, ライト, フィンランド, ラグビー, カリキュラム, ランニング, マスカラ, フライト, アラン, バニラ, フラン, ララ, ローラ, カラフル, ポピュラー, ラフ, ブラン, ミラー, アトラクション, ラグ, ブラザー, ストライプ, ライナー, ミイラ, ストライク, プロペラ, フラ, ゴリラ, サウジアラビア, ラオス, ブラウン, ライ, トランプ, マニラ, ラット, スラム, トラスト, パノラマ, ドラフト, セントラル, ラム, ブラッド, ヒマラヤ, レスラー, ローラー, ブラインド, グラタン, シンデレラ, キラー, アイランド, セラピー, インストラクター, スリランカ, ショコラ, ミラ, ライアン, ラケット, ソプラノ, ハイライト, フランクフルト, マーラ, エキストラ, ライム, バーバラ, パラダイス, ビンラディン, クランク, ラック, トレーラー, ニコラス, スクラップ, ライティング, フランシス, スカイライン, ニコラ, ラム, トラップ, グラス, ラメ, スライダー, ラッピング, ライド, ギャラ, デラ, ガラ, トラクター, ラビ, サラ, ゴンドラ, ドライ, グラ, セラミック, フライド, トラベル, フランチャイズ, ラスベガス, パラ, ラス, ランス, ランディ, ラムネ, クラクション, フランソワ, フィラデルフィア, ラップ, グラム, タラ, ラマ, クライン, クラッカー, アトランタ, ブランク, クラ, オーロラ, カステラ, ニュートラル, フェラ, イクラ, クレオパトラ, パラソル, プランニング, ライク, パラレル, ビラ, ブランチ, クラリネット, ステラ, ラジエーター, モラトリアム, バックグラウンド, ラージ, カムフラージュ, キャラバン, ランド, バタフライ, プラダ, ワイングラス, アトランティス, エジンバラ, カローラ, トラス, サフラン, ブライダル, プラクティス, ミケランジェロ, コアラ, スクラブ, ブライアン, クラン, フランシスコ, ラーラ, ドラ, ラリー, プラネット, ライト, ランドリー, ラベル, ライク, クラ, ハイカラ, マラ, ラバ, リラ, グアテマラ, コロラド, セラ, クラブハウス, ベラ, ケラー, ブラ, サラ, テラ, ブラームス, トランジット, ハイランド, ブライ, プラ, ナイトクラブ, バトラー, アラカルト, トワイライト, ドラマー, フランソワーズ, プライム, ダラ, モーラ, ストラクチャー, ゼブラ, ラード, マラヤ, "
     ]
    }
   ],
   "source": [
    "for i in range(len(wordlist)):\n",
    "    if 'ラ' in wordlist['katakana'][i]:\n",
    "        print(wordlist['katakana'][i], end = ', ')"
   ]
  },
  {
   "cell_type": "markdown",
   "metadata": {},
   "source": [
    "That's a lot of words that are being counted as another usage of \"la.\" Maybe we should look at all \"words\" that are only one character in length and drop those too. "
   ]
  },
  {
   "cell_type": "code",
   "execution_count": 27,
   "metadata": {},
   "outputs": [
    {
     "name": "stderr",
     "output_type": "stream",
     "text": [
      "C:\\Users\\lindsey rojtas\\Anaconda3\\lib\\site-packages\\ipykernel_launcher.py:3: SettingWithCopyWarning: \n",
      "A value is trying to be set on a copy of a slice from a DataFrame\n",
      "\n",
      "See the caveats in the documentation: http://pandas.pydata.org/pandas-docs/stable/user_guide/indexing.html#returning-a-view-versus-a-copy\n",
      "  This is separate from the ipykernel package so we can avoid doing imports until\n"
     ]
    }
   ],
   "source": [
    "for i in range(len(wordlist)):\n",
    "    if len(wordlist['katakana'][i]) == 1:\n",
    "        wordlist['katakana'][i] = None"
   ]
  },
  {
   "cell_type": "code",
   "execution_count": 28,
   "metadata": {},
   "outputs": [],
   "source": [
    "wordlist = wordlist.dropna()"
   ]
  },
  {
   "cell_type": "code",
   "execution_count": 29,
   "metadata": {},
   "outputs": [],
   "source": [
    "wordlist = wordlist.reset_index(drop=True)"
   ]
  },
  {
   "cell_type": "code",
   "execution_count": 30,
   "metadata": {},
   "outputs": [
    {
     "data": {
      "text/plain": [
       "2722"
      ]
     },
     "execution_count": 30,
     "metadata": {},
     "output_type": "execute_result"
    }
   ],
   "source": [
    "len(wordlist)"
   ]
  },
  {
   "cell_type": "markdown",
   "metadata": {},
   "source": [
    "Only a couple words dropped, but it'll make a big difference later on. Let's check the most frequent word again:"
   ]
  },
  {
   "cell_type": "code",
   "execution_count": 31,
   "metadata": {},
   "outputs": [
    {
     "data": {
      "text/plain": [
       "138"
      ]
     },
     "execution_count": 31,
     "metadata": {},
     "output_type": "execute_result"
    }
   ],
   "source": [
    "wordlist['conv_freq'].max()"
   ]
  },
  {
   "cell_type": "code",
   "execution_count": 32,
   "metadata": {},
   "outputs": [
    {
     "data": {
      "text/plain": [
       "'strike'"
      ]
     },
     "execution_count": 32,
     "metadata": {},
     "output_type": "execute_result"
    }
   ],
   "source": [
    "wordlist['translation'][pd.Index(wordlist['conv_freq']).get_loc(138)]"
   ]
  },
  {
   "cell_type": "markdown",
   "metadata": {},
   "source": [
    "This is pretty neat! I wouldn't have expected this to be the most common word, but then again, I don't know what the conversation topics are. I'd investigate less-common words, but that's probably quite a few words. As I was debugging, I found a lot of words that only appeared once, but appeared nonetheless. It also seemed like my cutoff point back in progress report 1 was a good one; there were quite a few zero-frequency words towards the end of my list (part of my debugging process was to put print statements everywhere... not much else in the process other than trying to explain the code to my blissfully ignorant cat). \n",
    "  \n",
    "  \n",
    "I do want to check out the length of these words and compare it to their frequencies. I noted in the last progress report that a shortened version of the word for \"centimeter\" is used more frequently than the full version, so I'm going to investigate the relationship between length (both in Katakana characters and English translation) and usage, if there is any relationship to begin with. This is a question I've wanted to investigate since the beginning, before I even came up with the idea of comparing Katakana use to age. "
   ]
  },
  {
   "cell_type": "code",
   "execution_count": 33,
   "metadata": {},
   "outputs": [],
   "source": [
    "def getlen(w):\n",
    "    ln = len(w)\n",
    "    return ln"
   ]
  },
  {
   "cell_type": "code",
   "execution_count": 34,
   "metadata": {},
   "outputs": [],
   "source": [
    "wordlist['kata_len'] = wordlist['katakana'].apply(getlen)\n",
    "wordlist['tln_len'] = wordlist['translation'].apply(getlen)"
   ]
  },
  {
   "cell_type": "code",
   "execution_count": 35,
   "metadata": {},
   "outputs": [
    {
     "data": {
      "text/html": [
       "<div>\n",
       "<style scoped>\n",
       "    .dataframe tbody tr th:only-of-type {\n",
       "        vertical-align: middle;\n",
       "    }\n",
       "\n",
       "    .dataframe tbody tr th {\n",
       "        vertical-align: top;\n",
       "    }\n",
       "\n",
       "    .dataframe thead th {\n",
       "        text-align: right;\n",
       "    }\n",
       "</style>\n",
       "<table border=\"1\" class=\"dataframe\">\n",
       "  <thead>\n",
       "    <tr style=\"text-align: right;\">\n",
       "      <th></th>\n",
       "      <th>katakana</th>\n",
       "      <th>translation</th>\n",
       "      <th>frequency</th>\n",
       "      <th>conv_freq</th>\n",
       "      <th>kata_len</th>\n",
       "      <th>tln_len</th>\n",
       "    </tr>\n",
       "  </thead>\n",
       "  <tbody>\n",
       "    <tr>\n",
       "      <td>0</td>\n",
       "      <td>パーセント</td>\n",
       "      <td>percent</td>\n",
       "      <td>63392</td>\n",
       "      <td>3</td>\n",
       "      <td>5</td>\n",
       "      <td>7</td>\n",
       "    </tr>\n",
       "    <tr>\n",
       "      <td>1</td>\n",
       "      <td>アメリカ</td>\n",
       "      <td>America</td>\n",
       "      <td>28243</td>\n",
       "      <td>69</td>\n",
       "      <td>4</td>\n",
       "      <td>7</td>\n",
       "    </tr>\n",
       "    <tr>\n",
       "      <td>2</td>\n",
       "      <td>ページ</td>\n",
       "      <td>page</td>\n",
       "      <td>24642</td>\n",
       "      <td>27</td>\n",
       "      <td>3</td>\n",
       "      <td>4</td>\n",
       "    </tr>\n",
       "    <tr>\n",
       "      <td>3</td>\n",
       "      <td>センター</td>\n",
       "      <td>center</td>\n",
       "      <td>20664</td>\n",
       "      <td>33</td>\n",
       "      <td>4</td>\n",
       "      <td>6</td>\n",
       "    </tr>\n",
       "    <tr>\n",
       "      <td>4</td>\n",
       "      <td>サービス</td>\n",
       "      <td>service</td>\n",
       "      <td>16630</td>\n",
       "      <td>21</td>\n",
       "      <td>4</td>\n",
       "      <td>7</td>\n",
       "    </tr>\n",
       "  </tbody>\n",
       "</table>\n",
       "</div>"
      ],
      "text/plain": [
       "  katakana translation  frequency conv_freq  kata_len  tln_len\n",
       "0    パーセント     percent      63392         3         5        7\n",
       "1     アメリカ     America      28243        69         4        7\n",
       "2      ページ        page      24642        27         3        4\n",
       "3     センター      center      20664        33         4        6\n",
       "4     サービス     service      16630        21         4        7"
      ]
     },
     "execution_count": 35,
     "metadata": {},
     "output_type": "execute_result"
    }
   ],
   "source": [
    "wordlist.head()"
   ]
  },
  {
   "cell_type": "code",
   "execution_count": 36,
   "metadata": {},
   "outputs": [
    {
     "data": {
      "text/plain": [
       "2"
      ]
     },
     "execution_count": 36,
     "metadata": {},
     "output_type": "execute_result"
    }
   ],
   "source": [
    "wordlist['kata_len'].min()"
   ]
  },
  {
   "cell_type": "code",
   "execution_count": 37,
   "metadata": {},
   "outputs": [
    {
     "data": {
      "text/plain": [
       "1"
      ]
     },
     "execution_count": 37,
     "metadata": {},
     "output_type": "execute_result"
    }
   ],
   "source": [
    "wordlist['tln_len'].min()"
   ]
  },
  {
   "cell_type": "code",
   "execution_count": 44,
   "metadata": {},
   "outputs": [
    {
     "data": {
      "text/plain": [
       "18         dollar\n",
       "28            bus\n",
       "33           kilo\n",
       "35           door\n",
       "39            one\n",
       "          ...    \n",
       "2575          yak\n",
       "2577    agitation\n",
       "2578         than\n",
       "2589          jig\n",
       "2603            I\n",
       "Name: translation, Length: 343, dtype: object"
      ]
     },
     "execution_count": 44,
     "metadata": {},
     "output_type": "execute_result"
    }
   ],
   "source": [
    "wordlist['translation'][pd.Index(wordlist['kata_len']).get_loc(2)]"
   ]
  },
  {
   "cell_type": "code",
   "execution_count": 45,
   "metadata": {},
   "outputs": [
    {
     "data": {
      "text/plain": [
       "377     H\n",
       "2603    I\n",
       "Name: translation, dtype: object"
      ]
     },
     "execution_count": 45,
     "metadata": {},
     "output_type": "execute_result"
    }
   ],
   "source": [
    "wordlist['translation'][pd.Index(wordlist['tln_len']).get_loc(1)]"
   ]
  },
  {
   "cell_type": "markdown",
   "metadata": {},
   "source": [
    "So as I was poking around, I noticed that even more of my words that I included should probably be dropped -- ones that don't seem to have been borrowed from English (外国 = foreign country). I really only want to focus on English borrowings, so let's just drop those real quick:"
   ]
  },
  {
   "cell_type": "code",
   "execution_count": 39,
   "metadata": {},
   "outputs": [
    {
     "name": "stderr",
     "output_type": "stream",
     "text": [
      "C:\\Users\\lindsey rojtas\\Anaconda3\\lib\\site-packages\\ipykernel_launcher.py:3: SettingWithCopyWarning: \n",
      "A value is trying to be set on a copy of a slice from a DataFrame\n",
      "\n",
      "See the caveats in the documentation: http://pandas.pydata.org/pandas-docs/stable/user_guide/indexing.html#returning-a-view-versus-a-copy\n",
      "  This is separate from the ipykernel package so we can avoid doing imports until\n"
     ]
    }
   ],
   "source": [
    "for i in range(len(wordlist)):\n",
    "    if wordlist['translation'][i] == '外国' or wordlist['translation'][i] == '四':\n",
    "        wordlist['translation'][i] = None"
   ]
  },
  {
   "cell_type": "code",
   "execution_count": 40,
   "metadata": {},
   "outputs": [],
   "source": [
    "wordlist = wordlist.dropna()"
   ]
  },
  {
   "cell_type": "code",
   "execution_count": 41,
   "metadata": {},
   "outputs": [],
   "source": [
    "wordlist = wordlist.reset_index(drop=True)"
   ]
  },
  {
   "cell_type": "code",
   "execution_count": 42,
   "metadata": {},
   "outputs": [
    {
     "data": {
      "text/plain": [
       "2612"
      ]
     },
     "execution_count": 42,
     "metadata": {},
     "output_type": "execute_result"
    }
   ],
   "source": [
    "len(wordlist)"
   ]
  },
  {
   "cell_type": "markdown",
   "metadata": {},
   "source": [
    "We still have a pretty sizable list here, despite all that we dropped. There are some other considerations we should take here, like how the translation for \"I\" can also be used as a name or a word for \"love\", but I don't know how the word is being used in the conversation, so I'm going to leave it in.   \n",
    "  \n"
   ]
  },
  {
   "cell_type": "code",
   "execution_count": null,
   "metadata": {},
   "outputs": [],
   "source": []
  }
 ],
 "metadata": {
  "kernelspec": {
   "display_name": "Python 3",
   "language": "python",
   "name": "python3"
  },
  "language_info": {
   "codemirror_mode": {
    "name": "ipython",
    "version": 3
   },
   "file_extension": ".py",
   "mimetype": "text/x-python",
   "name": "python",
   "nbconvert_exporter": "python",
   "pygments_lexer": "ipython3",
   "version": "3.7.4"
  }
 },
 "nbformat": 4,
 "nbformat_minor": 2
}
