{
 "cells": [
  {
   "cell_type": "markdown",
   "metadata": {},
   "source": [
    "## Term Project Progress Report #1 Notebook (Code)\n",
    "- Lindsey Rojtas\n",
    "- LING1340\n",
    "- 2/25/2020"
   ]
  },
  {
   "cell_type": "markdown",
   "metadata": {},
   "source": [
    "This progress report focuses on the gathering and cleaning of data for this project; this includes filtering unnecessary columns from a list of Katakana words as well as (???)"
   ]
  },
  {
   "cell_type": "markdown",
   "metadata": {},
   "source": [
    "### Some Notes\n",
    "The hardest part of this phase was the actual gathering of the data, especially since it's data from a language that isn't English. I wanted to do something having to do with Japanese since I think it's interesting (and hopefully, I'll have time to take some classes on it here at Pitt), but I also wanted to do something that involved having data that I could read. I'm not experienced with Kanji at all, but I can read Hiragana and Katakana. Katakana specifically interests me because it's the Japanese version of something like Italics, which makes loan words extremely easy to find.  \n",
    "  \n",
    "Due to the nature of this project, finding the data wasn't easy and took up most of the time I spent on this. As I was browsing, I came across some Anki flashcards that had basically what I needed, so I reached out to the [creator of them on Reddit](https://www.reddit.com/user/Alphyn), who told me [which corpus they used](https://pj.ninjal.ac.jp/corpus_center/bccwj/en/freq-list.html) (luckily, the lists on this site are free to use for academic purposes!) and even provided me with some files that were refined using that corpus data. \n",
    "  \n",
    "I also am somewhat more aware of what I want to do, since I know that just using a list of words and their frequencies isn't enough, so what I want to do is use this list of Katakana words combined with some corpus with age group data to see how much Katakana word use has changed over time. \n",
    "  \n",
    "On with the show!"
   ]
  },
  {
   "cell_type": "markdown",
   "metadata": {},
   "source": [
    "### Importing and Reading"
   ]
  },
  {
   "cell_type": "code",
   "execution_count": 1,
   "metadata": {},
   "outputs": [],
   "source": [
    "# importing all the fun stuff i might need; will add to this later\n",
    "import numpy as np\n",
    "import pandas as pd"
   ]
  },
  {
   "cell_type": "code",
   "execution_count": 2,
   "metadata": {},
   "outputs": [
    {
     "name": "stdout",
     "output_type": "stream",
     "text": [
      "Pretty printing has been turned OFF\n"
     ]
    }
   ],
   "source": [
    "%pprint"
   ]
  },
  {
   "cell_type": "markdown",
   "metadata": {},
   "source": [
    "I had some trouble with converting this file from an Excel file to a CSV, but that's because I didn't realize I had to actually save it as a CSV rather than just renaming it. Good lesson to learn for the future. "
   ]
  },
  {
   "cell_type": "code",
   "execution_count": 3,
   "metadata": {},
   "outputs": [],
   "source": [
    "wordlist = pd.read_csv('../privdata/only_katakana.csv') # reading in my big word list file... 80k entries!"
   ]
  },
  {
   "cell_type": "code",
   "execution_count": 4,
   "metadata": {
    "scrolled": false
   },
   "outputs": [
    {
     "data": {
      "text/html": [
       "<div>\n",
       "<style scoped>\n",
       "    .dataframe tbody tr th:only-of-type {\n",
       "        vertical-align: middle;\n",
       "    }\n",
       "\n",
       "    .dataframe tbody tr th {\n",
       "        vertical-align: top;\n",
       "    }\n",
       "\n",
       "    .dataframe thead th {\n",
       "        text-align: right;\n",
       "    }\n",
       "</style>\n",
       "<table border=\"1\" class=\"dataframe\">\n",
       "  <thead>\n",
       "    <tr style=\"text-align: right;\">\n",
       "      <th></th>\n",
       "      <th>rank</th>\n",
       "      <th>lForm</th>\n",
       "      <th>lemma</th>\n",
       "      <th>pos</th>\n",
       "      <th>subLemma</th>\n",
       "      <th>wType</th>\n",
       "      <th>frequency</th>\n",
       "      <th>pmw</th>\n",
       "      <th>PB_rank</th>\n",
       "      <th>PB_frequency</th>\n",
       "      <th>...</th>\n",
       "      <th>LB_variable_pmw</th>\n",
       "      <th>OW_fixed_rank</th>\n",
       "      <th>OW_fixed_frequency</th>\n",
       "      <th>OW_fixed_pmw</th>\n",
       "      <th>OW_variable_rank</th>\n",
       "      <th>OW_variable_frequency</th>\n",
       "      <th>OW_variable_pmw</th>\n",
       "      <th>core_rank</th>\n",
       "      <th>core_frequency</th>\n",
       "      <th>core_pmw</th>\n",
       "    </tr>\n",
       "  </thead>\n",
       "  <tbody>\n",
       "    <tr>\n",
       "      <td>0</td>\n",
       "      <td>142</td>\n",
       "      <td>パーセント</td>\n",
       "      <td>パーセント</td>\n",
       "      <td>名詞-普通名詞-助数詞可能</td>\n",
       "      <td>percent</td>\n",
       "      <td>外</td>\n",
       "      <td>63392</td>\n",
       "      <td>605.970096</td>\n",
       "      <td>194.0</td>\n",
       "      <td>11614.0</td>\n",
       "      <td>...</td>\n",
       "      <td>244.656011</td>\n",
       "      <td>21.0</td>\n",
       "      <td>6121.0</td>\n",
       "      <td>5876.767423</td>\n",
       "      <td>19.0</td>\n",
       "      <td>28267.0</td>\n",
       "      <td>5998.526417</td>\n",
       "      <td>90.0</td>\n",
       "      <td>1070.0</td>\n",
       "      <td>974.558557</td>\n",
       "    </tr>\n",
       "    <tr>\n",
       "      <td>1</td>\n",
       "      <td>286</td>\n",
       "      <td>トウキョウ</td>\n",
       "      <td>トウキョウ</td>\n",
       "      <td>名詞-固有名詞-地名-一般</td>\n",
       "      <td>NaN</td>\n",
       "      <td>固</td>\n",
       "      <td>29804</td>\n",
       "      <td>284.899242</td>\n",
       "      <td>388.0</td>\n",
       "      <td>6140.0</td>\n",
       "      <td>...</td>\n",
       "      <td>243.650053</td>\n",
       "      <td>334.0</td>\n",
       "      <td>427.0</td>\n",
       "      <td>409.962374</td>\n",
       "      <td>315.0</td>\n",
       "      <td>2023.0</td>\n",
       "      <td>429.299853</td>\n",
       "      <td>149.0</td>\n",
       "      <td>627.0</td>\n",
       "      <td>571.073098</td>\n",
       "    </tr>\n",
       "    <tr>\n",
       "      <td>2</td>\n",
       "      <td>305</td>\n",
       "      <td>アメリカ</td>\n",
       "      <td>アメリカ</td>\n",
       "      <td>名詞-固有名詞-地名-国</td>\n",
       "      <td>America</td>\n",
       "      <td>固</td>\n",
       "      <td>28243</td>\n",
       "      <td>269.977496</td>\n",
       "      <td>285.0</td>\n",
       "      <td>7913.0</td>\n",
       "      <td>...</td>\n",
       "      <td>362.040945</td>\n",
       "      <td>707.0</td>\n",
       "      <td>184.0</td>\n",
       "      <td>176.658259</td>\n",
       "      <td>554.0</td>\n",
       "      <td>1095.0</td>\n",
       "      <td>232.369421</td>\n",
       "      <td>533.0</td>\n",
       "      <td>206.0</td>\n",
       "      <td>187.625292</td>\n",
       "    </tr>\n",
       "    <tr>\n",
       "      <td>3</td>\n",
       "      <td>351</td>\n",
       "      <td>ページ</td>\n",
       "      <td>ページ</td>\n",
       "      <td>名詞-普通名詞-助数詞可能</td>\n",
       "      <td>page</td>\n",
       "      <td>外</td>\n",
       "      <td>24642</td>\n",
       "      <td>235.555198</td>\n",
       "      <td>232.0</td>\n",
       "      <td>9624.0</td>\n",
       "      <td>...</td>\n",
       "      <td>198.520679</td>\n",
       "      <td>1518.0</td>\n",
       "      <td>63.0</td>\n",
       "      <td>60.486252</td>\n",
       "      <td>2122.0</td>\n",
       "      <td>172.0</td>\n",
       "      <td>36.500037</td>\n",
       "      <td>696.0</td>\n",
       "      <td>163.0</td>\n",
       "      <td>148.460790</td>\n",
       "    </tr>\n",
       "    <tr>\n",
       "      <td>4</td>\n",
       "      <td>420</td>\n",
       "      <td>センター</td>\n",
       "      <td>センター</td>\n",
       "      <td>名詞-普通名詞-一般</td>\n",
       "      <td>center</td>\n",
       "      <td>外</td>\n",
       "      <td>20664</td>\n",
       "      <td>197.529121</td>\n",
       "      <td>1118.0</td>\n",
       "      <td>2301.0</td>\n",
       "      <td>...</td>\n",
       "      <td>55.431775</td>\n",
       "      <td>401.0</td>\n",
       "      <td>353.0</td>\n",
       "      <td>338.915030</td>\n",
       "      <td>409.0</td>\n",
       "      <td>1581.0</td>\n",
       "      <td>335.503246</td>\n",
       "      <td>404.0</td>\n",
       "      <td>253.0</td>\n",
       "      <td>230.433005</td>\n",
       "    </tr>\n",
       "  </tbody>\n",
       "</table>\n",
       "<p>5 rows × 80 columns</p>\n",
       "</div>"
      ],
      "text/plain": [
       "   rank  lForm  lemma            pos subLemma wType  frequency         pmw  \\\n",
       "0   142  パーセント  パーセント  名詞-普通名詞-助数詞可能  percent     外      63392  605.970096   \n",
       "1   286  トウキョウ  トウキョウ  名詞-固有名詞-地名-一般      NaN     固      29804  284.899242   \n",
       "2   305   アメリカ   アメリカ   名詞-固有名詞-地名-国  America     固      28243  269.977496   \n",
       "3   351    ページ    ページ  名詞-普通名詞-助数詞可能     page     外      24642  235.555198   \n",
       "4   420   センター   センター     名詞-普通名詞-一般   center     外      20664  197.529121   \n",
       "\n",
       "   PB_rank  PB_frequency  ...  LB_variable_pmw  OW_fixed_rank  \\\n",
       "0    194.0       11614.0  ...       244.656011           21.0   \n",
       "1    388.0        6140.0  ...       243.650053          334.0   \n",
       "2    285.0        7913.0  ...       362.040945          707.0   \n",
       "3    232.0        9624.0  ...       198.520679         1518.0   \n",
       "4   1118.0        2301.0  ...        55.431775          401.0   \n",
       "\n",
       "   OW_fixed_frequency  OW_fixed_pmw  OW_variable_rank  OW_variable_frequency  \\\n",
       "0              6121.0   5876.767423              19.0                28267.0   \n",
       "1               427.0    409.962374             315.0                 2023.0   \n",
       "2               184.0    176.658259             554.0                 1095.0   \n",
       "3                63.0     60.486252            2122.0                  172.0   \n",
       "4               353.0    338.915030             409.0                 1581.0   \n",
       "\n",
       "   OW_variable_pmw  core_rank  core_frequency    core_pmw  \n",
       "0      5998.526417       90.0          1070.0  974.558557  \n",
       "1       429.299853      149.0           627.0  571.073098  \n",
       "2       232.369421      533.0           206.0  187.625292  \n",
       "3        36.500037      696.0           163.0  148.460790  \n",
       "4       335.503246      404.0           253.0  230.433005  \n",
       "\n",
       "[5 rows x 80 columns]"
      ]
     },
     "execution_count": 4,
     "metadata": {},
     "output_type": "execute_result"
    }
   ],
   "source": [
    "wordlist.head()"
   ]
  },
  {
   "cell_type": "markdown",
   "metadata": {},
   "source": [
    "### Data Cleaning\n",
    "What I did before anything else was rename some columns and create a `cleanwordlist` so that I only had the data I needed. 80 columns is a lot, and I don't really know what a lot of it means. Luckily, all I really need is the Katakana word, the translation, and the frequency count. "
   ]
  },
  {
   "cell_type": "code",
   "execution_count": 5,
   "metadata": {},
   "outputs": [],
   "source": [
    "wordlist.rename(columns={'lemma':'katakana', 'subLemma':'translation'}, inplace=True)"
   ]
  },
  {
   "cell_type": "code",
   "execution_count": 6,
   "metadata": {},
   "outputs": [],
   "source": [
    "cleanwordlist = wordlist[['katakana', 'translation', 'frequency']]"
   ]
  },
  {
   "cell_type": "code",
   "execution_count": 7,
   "metadata": {},
   "outputs": [
    {
     "data": {
      "text/html": [
       "<div>\n",
       "<style scoped>\n",
       "    .dataframe tbody tr th:only-of-type {\n",
       "        vertical-align: middle;\n",
       "    }\n",
       "\n",
       "    .dataframe tbody tr th {\n",
       "        vertical-align: top;\n",
       "    }\n",
       "\n",
       "    .dataframe thead th {\n",
       "        text-align: right;\n",
       "    }\n",
       "</style>\n",
       "<table border=\"1\" class=\"dataframe\">\n",
       "  <thead>\n",
       "    <tr style=\"text-align: right;\">\n",
       "      <th></th>\n",
       "      <th>katakana</th>\n",
       "      <th>translation</th>\n",
       "      <th>frequency</th>\n",
       "    </tr>\n",
       "  </thead>\n",
       "  <tbody>\n",
       "    <tr>\n",
       "      <td>0</td>\n",
       "      <td>パーセント</td>\n",
       "      <td>percent</td>\n",
       "      <td>63392</td>\n",
       "    </tr>\n",
       "    <tr>\n",
       "      <td>1</td>\n",
       "      <td>トウキョウ</td>\n",
       "      <td>NaN</td>\n",
       "      <td>29804</td>\n",
       "    </tr>\n",
       "    <tr>\n",
       "      <td>2</td>\n",
       "      <td>アメリカ</td>\n",
       "      <td>America</td>\n",
       "      <td>28243</td>\n",
       "    </tr>\n",
       "    <tr>\n",
       "      <td>3</td>\n",
       "      <td>ページ</td>\n",
       "      <td>page</td>\n",
       "      <td>24642</td>\n",
       "    </tr>\n",
       "    <tr>\n",
       "      <td>4</td>\n",
       "      <td>センター</td>\n",
       "      <td>center</td>\n",
       "      <td>20664</td>\n",
       "    </tr>\n",
       "    <tr>\n",
       "      <td>5</td>\n",
       "      <td>サービス</td>\n",
       "      <td>service</td>\n",
       "      <td>16630</td>\n",
       "    </tr>\n",
       "    <tr>\n",
       "      <td>6</td>\n",
       "      <td>システム</td>\n",
       "      <td>system</td>\n",
       "      <td>16458</td>\n",
       "    </tr>\n",
       "    <tr>\n",
       "      <td>7</td>\n",
       "      <td>メートル</td>\n",
       "      <td>metre</td>\n",
       "      <td>15960</td>\n",
       "    </tr>\n",
       "    <tr>\n",
       "      <td>8</td>\n",
       "      <td>テレビ</td>\n",
       "      <td>television</td>\n",
       "      <td>15644</td>\n",
       "    </tr>\n",
       "    <tr>\n",
       "      <td>9</td>\n",
       "      <td>メール</td>\n",
       "      <td>mail</td>\n",
       "      <td>15589</td>\n",
       "    </tr>\n",
       "  </tbody>\n",
       "</table>\n",
       "</div>"
      ],
      "text/plain": [
       "  katakana translation  frequency\n",
       "0    パーセント     percent      63392\n",
       "1    トウキョウ         NaN      29804\n",
       "2     アメリカ     America      28243\n",
       "3      ページ        page      24642\n",
       "4     センター      center      20664\n",
       "5     サービス     service      16630\n",
       "6     システム      system      16458\n",
       "7     メートル       metre      15960\n",
       "8      テレビ  television      15644\n",
       "9      メール        mail      15589"
      ]
     },
     "execution_count": 7,
     "metadata": {},
     "output_type": "execute_result"
    }
   ],
   "source": [
    "cleanwordlist.head(10)"
   ]
  },
  {
   "cell_type": "markdown",
   "metadata": {},
   "source": [
    "We notice here that some translations are `NaN`. There are several of these in the dataframe, but the first one we see is トウキョウ (Tokyo, as in the city, which has no English equivalent). Let's explore some more of this `NaN` translation data to see if the other ones are similar."
   ]
  },
  {
   "cell_type": "code",
   "execution_count": 11,
   "metadata": {},
   "outputs": [
    {
     "data": {
      "text/plain": [
       "0    False\n",
       "1     True\n",
       "2    False\n",
       "3    False\n",
       "4    False\n",
       "Name: translation, dtype: bool"
      ]
     },
     "execution_count": 11,
     "metadata": {},
     "output_type": "execute_result"
    }
   ],
   "source": [
    "isnan = cleanwordlist['translation'].isnull()\n"
   ]
  },
  {
   "cell_type": "code",
   "execution_count": null,
   "metadata": {},
   "outputs": [],
   "source": []
  }
 ],
 "metadata": {
  "kernelspec": {
   "display_name": "Python 3",
   "language": "python",
   "name": "python3"
  },
  "language_info": {
   "codemirror_mode": {
    "name": "ipython",
    "version": 3
   },
   "file_extension": ".py",
   "mimetype": "text/x-python",
   "name": "python",
   "nbconvert_exporter": "python",
   "pygments_lexer": "ipython3",
   "version": "3.7.4"
  }
 },
 "nbformat": 4,
 "nbformat_minor": 2
}
